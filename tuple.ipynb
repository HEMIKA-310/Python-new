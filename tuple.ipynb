{
  "nbformat": 4,
  "nbformat_minor": 0,
  "metadata": {
    "colab": {
      "name": "tuple.ipynb",
      "provenance": [],
      "authorship_tag": "ABX9TyNo+BmFmbeHfF+J4B79DTvm",
      "include_colab_link": true
    },
    "kernelspec": {
      "name": "python3",
      "display_name": "Python 3"
    },
    "language_info": {
      "name": "python"
    }
  },
  "cells": [
    {
      "cell_type": "markdown",
      "metadata": {
        "id": "view-in-github",
        "colab_type": "text"
      },
      "source": [
        "<a href=\"https://colab.research.google.com/github/HEMIKA-310/Python-practice/blob/Module-2/tuple.ipynb\" target=\"_parent\"><img src=\"https://colab.research.google.com/assets/colab-badge.svg\" alt=\"Open In Colab\"/></a>"
      ]
    },
    {
      "cell_type": "code",
      "execution_count": null,
      "metadata": {
        "id": "Ad9MO2ruOaG5",
        "colab": {
          "base_uri": "https://localhost:8080/"
        },
        "outputId": "80da44d4-4329-4c85-a646-a7edc762cf56"
      },
      "outputs": [
        {
          "output_type": "stream",
          "name": "stdout",
          "text": [
            "('India', 'USA', 'UK', 'Nepal', 'India')\n",
            "<class 'tuple'>\n",
            "('a',)\n"
          ]
        }
      ],
      "source": [
        "#tuple\n",
        "'''ordered and unchangeable(list is changeable); written in round brackets(); allows duplicate values; Mutable(list is immutable); '''\n",
        "country=(\"India\",\"USA\",\"UK\",\"Nepal\",\"India\")\n",
        "print(country)\n",
        "#tuple with one item\n",
        "'''for one element to be a tuple use ,'''\n",
        "#tuples are defined as objects with the data type 'tuple'\n",
        "a=('apple',)\n",
        "print(type(a))\n",
        "#tuple constructor: tuple()\n",
        "t=tuple(\"a\")\n",
        "print(t)"
      ]
    },
    {
      "cell_type": "code",
      "source": [
        "#length\n",
        "alpha=('a','b','c','d','e','f','g','h','i','j','a','g','h','a')\n",
        "print((len(alpha)))\n",
        "#count\n",
        "print(alpha.count(\"a\"))\n",
        "#index\n",
        "print(alpha.index(\"g\"))"
      ],
      "metadata": {
        "id": "VEzhTx4tVV9-",
        "colab": {
          "base_uri": "https://localhost:8080/"
        },
        "outputId": "5bb18ebe-0738-4850-e465-c1bafac806fc"
      },
      "execution_count": null,
      "outputs": [
        {
          "output_type": "stream",
          "name": "stdout",
          "text": [
            "14\n",
            "3\n",
            "6\n"
          ]
        }
      ]
    },
    {
      "cell_type": "code",
      "source": [
        "#tuple data types\n",
        "\"\"\"can be string, int, and boolean : all at once\"\"\"\n",
        "t=(\"a\",10+3j,4.5,8,True)\n",
        "print(t)"
      ],
      "metadata": {
        "colab": {
          "base_uri": "https://localhost:8080/"
        },
        "id": "otF6_mqpk2HK",
        "outputId": "20054106-090d-47f5-a1d5-149d5e704f96"
      },
      "execution_count": null,
      "outputs": [
        {
          "output_type": "stream",
          "name": "stdout",
          "text": [
            "('a', (10+3j), 4.5, 8, True)\n"
          ]
        }
      ]
    },
    {
      "cell_type": "code",
      "source": [
        "#To access tuple items\n",
        "t=(\"giraffe\",\"horse\",\"cat\",\"dog\",\"fish\",\"lion\",1,2,3,4,5,6)\n",
        "print(t[0:])\n",
        "print(t[3:5])\n",
        "print(t[6:])\n",
        "print(t[:7])\n",
        "print(t[:])\n",
        "\"\"\"To check if item exists\"\"\"\n",
        "if 1 in t:\n",
        "  print(\"yes\")"
      ],
      "metadata": {
        "colab": {
          "base_uri": "https://localhost:8080/"
        },
        "id": "ZSUcuXbInRnB",
        "outputId": "c065cfff-ea45-415e-c5a8-5b776b4d0084"
      },
      "execution_count": null,
      "outputs": [
        {
          "output_type": "stream",
          "name": "stdout",
          "text": [
            "('giraffe', 'horse', 'cat', 'dog', 'fish', 'lion', 1, 2, 3, 4, 5, 6)\n",
            "('dog', 'fish')\n",
            "(1, 2, 3, 4, 5, 6)\n",
            "('giraffe', 'horse', 'cat', 'dog', 'fish', 'lion', 1)\n",
            "('giraffe', 'horse', 'cat', 'dog', 'fish', 'lion', 1, 2, 3, 4, 5, 6)\n",
            "yes\n"
          ]
        }
      ]
    },
    {
      "cell_type": "code",
      "source": [
        "#to change tuple values\n",
        "'''You can convert the tuple into a list, change the list, and convert the list back into a tuple.'''\n",
        "#to change into list use list()\n",
        "t=(\"giraffe\",\"horse\",\"cat\",\"dog\",\"fish\",\"lion\",1,2,3,4,5,6)\n",
        "l=list(t)\n",
        "l[5]=\"tiger\"\n",
        "t=tuple(l)\n",
        "print(t)\n",
        "#to append(as lists are immutable)\n",
        "t=(\"giraffe\",\"horse\",\"cat\",\"dog\",\"fish\",\"lion\",1,2,3,4,5,6)\n",
        "l=list(t)\n",
        "l.append(\"moon\")\n",
        "#to insert\n",
        "l.insert(3,\"chocolate\")\n",
        "#to remove\n",
        "l.remove(l[4])\n",
        "t=tuple(l)\n",
        "print(l)\n",
        "\n",
        "\n"
      ],
      "metadata": {
        "colab": {
          "base_uri": "https://localhost:8080/"
        },
        "id": "QS4wUBD5pWdr",
        "outputId": "2b761bf6-70b3-457f-fd81-188835d4352e"
      },
      "execution_count": null,
      "outputs": [
        {
          "output_type": "stream",
          "name": "stdout",
          "text": [
            "('giraffe', 'horse', 'cat', 'dog', 'fish', 'tiger', 1, 2, 3, 4, 5, 6)\n",
            "['giraffe', 'horse', 'cat', 'chocolate', 'fish', 'lion', 1, 2, 3, 4, 5, 6, 'moon']\n"
          ]
        }
      ]
    },
    {
      "cell_type": "markdown",
      "source": [
        "https://gitam-2021.github.io/CSEN1021/"
      ],
      "metadata": {
        "id": "7h-uLcMyvTas"
      }
    },
    {
      "cell_type": "code",
      "source": [
        "#add tuple to tuple\n",
        "t1=(1,2,3,\"a\")\n",
        "t2=(\"orange\",\"apple\",\"mango\")\n",
        "t1=t1+t2\n",
        "print(t1)"
      ],
      "metadata": {
        "colab": {
          "base_uri": "https://localhost:8080/"
        },
        "id": "T4MT0YSmvW0c",
        "outputId": "1964d4fd-77a6-47f9-8aaa-3afaad7cdf77"
      },
      "execution_count": null,
      "outputs": [
        {
          "output_type": "stream",
          "name": "stdout",
          "text": [
            "(1, 2, 3, 'a', 'orange', 'apple', 'mango')\n"
          ]
        }
      ]
    },
    {
      "cell_type": "code",
      "source": [
        "#to clear use l.clear()\n",
        "t=(1,2,3,\"a\")\n",
        "l=list(t)\n",
        "l.clear()\n",
        "t=tuple(l)\n",
        "print(t)\n",
        "#to delete use del()\n",
        "t=(1,2,3,\"a\")\n",
        "l=list(t)\n",
        "del(l)\n",
        "\n",
        "\n",
        "\n"
      ],
      "metadata": {
        "colab": {
          "base_uri": "https://localhost:8080/"
        },
        "id": "h13FJPZFwhGW",
        "outputId": "d62f0cf7-6e8a-44d2-d48e-f8ca2d80bb23"
      },
      "execution_count": null,
      "outputs": [
        {
          "output_type": "stream",
          "name": "stdout",
          "text": [
            "()\n"
          ]
        }
      ]
    },
    {
      "cell_type": "code",
      "source": [
        "#remove duplicate values from a tuple\n",
        "t=(\"giraffe\",\"horse\",\"cat\",\"dog\",\"fish\",\"lion\",1,2,3,4,5,6,\"g\",\"h\",\"g\",\"h\",\"m\",\"m\",\"g\",\"h\")\n",
        "l=list(t)\n",
        "for i in list(l):\n",
        "    if i == \"m\" or i==\"g\" or i == \"h\":\n",
        "        l.remove(i)\n",
        "t=tuple(l)\n",
        "print(t)\n"
      ],
      "metadata": {
        "colab": {
          "base_uri": "https://localhost:8080/"
        },
        "id": "F_s6iQ_71hJP",
        "outputId": "d6f008bb-dfda-4098-bba0-0650baeee368"
      },
      "execution_count": null,
      "outputs": [
        {
          "output_type": "stream",
          "name": "stdout",
          "text": [
            "('giraffe', 'horse', 'cat', 'dog', 'fish', 'lion', 1, 2, 3, 4, 5, 6)\n"
          ]
        }
      ]
    },
    {
      "cell_type": "code",
      "source": [
        "#upacking a tuple\n",
        "fruits = (\"a\", \"b\", \"c\")\n",
        "\n",
        "(green, yellow, red) = fruits\n",
        "\n",
        "print(green)\n",
        "print(yellow)\n",
        "print(red)"
      ],
      "metadata": {
        "colab": {
          "base_uri": "https://localhost:8080/"
        },
        "id": "UC2hLJCB0KjX",
        "outputId": "10243bd8-ebea-48da-d55a-a362b0ed0ac5"
      },
      "execution_count": null,
      "outputs": [
        {
          "output_type": "stream",
          "name": "stdout",
          "text": [
            "a\n",
            "b\n",
            "c\n"
          ]
        }
      ]
    }
  ]
}