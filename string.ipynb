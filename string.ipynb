{
  "nbformat": 4,
  "nbformat_minor": 0,
  "metadata": {
    "colab": {
      "name": "string.ipynb",
      "provenance": [],
      "authorship_tag": "ABX9TyPmudwzLd8qeBuhaAjO7uxJ",
      "include_colab_link": true
    },
    "kernelspec": {
      "name": "python3",
      "display_name": "Python 3"
    },
    "language_info": {
      "name": "python"
    }
  },
  "cells": [
    {
      "cell_type": "markdown",
      "metadata": {
        "id": "view-in-github",
        "colab_type": "text"
      },
      "source": [
        "<a href=\"https://colab.research.google.com/github/HEMIKA-310/Python-practice/blob/Module-1/string.ipynb\" target=\"_parent\"><img src=\"https://colab.research.google.com/assets/colab-badge.svg\" alt=\"Open In Colab\"/></a>"
      ]
    },
    {
      "cell_type": "code",
      "source": [
        "#String\n",
        "add=\"Hi I'm Hemika ,I come from Gopalapatnam by bus\"\n",
        "print(add)\n",
        "print (\"Hemika \"in add)"
      ],
      "metadata": {
        "colab": {
          "base_uri": "https://localhost:8080/"
        },
        "id": "e_qGlaM79x-_",
        "outputId": "2b755c85-7b92-43ba-c6ef-892025101f3e"
      },
      "execution_count": null,
      "outputs": [
        {
          "output_type": "stream",
          "name": "stdout",
          "text": [
            "Hi I'm Hemika ,I come from Gopalapatnam by bus\n",
            "True\n"
          ]
        }
      ]
    },
    {
      "cell_type": "code",
      "source": [
        "add =\"\"\" Hi I'm Hemika\n",
        " I come by bus\"\"\"\n",
        "print(add)\n",
        "print(len(add))\n",
        "print(\"Hemika\"in add)\n",
        "print(\"Python\" in add)\n",
        "\n"
      ],
      "metadata": {
        "colab": {
          "base_uri": "https://localhost:8080/"
        },
        "id": "BEV6KxYX_Muy",
        "outputId": "e0460011-f432-414b-95c2-9e2136c6ded3"
      },
      "execution_count": null,
      "outputs": [
        {
          "output_type": "stream",
          "name": "stdout",
          "text": [
            " Hi I'm Hemika\n",
            " I come by bus\n",
            "29\n",
            "True\n",
            "False\n"
          ]
        }
      ]
    },
    {
      "cell_type": "code",
      "source": [
        "#length\n",
        "add=\"Hi I'm Hemika ,I come from Gopalapatnam by bus\"\n",
        "print(len(add))"
      ],
      "metadata": {
        "colab": {
          "base_uri": "https://localhost:8080/"
        },
        "id": "OTSXwzJ9_7fS",
        "outputId": "c1f02c88-589a-49fd-b08c-f14d2a490665"
      },
      "execution_count": null,
      "outputs": [
        {
          "output_type": "stream",
          "name": "stdout",
          "text": [
            "46\n"
          ]
        }
      ]
    },
    {
      "cell_type": "code",
      "source": [
        "#checking string\n",
        "add=\"Hi I'm Hemika ,I come from Gopalapatnam by bus\"\n",
        "print(\"Hemika\"in add)\n",
        "print(\"Python\" in add)\n",
        "print(\"hemika\" in add ,\"Hemika\" in add)"
      ],
      "metadata": {
        "colab": {
          "base_uri": "https://localhost:8080/"
        },
        "id": "2StuJhvQ_z88",
        "outputId": "571d3d06-ddcd-45ca-ea03-61e378f0df06"
      },
      "execution_count": null,
      "outputs": [
        {
          "output_type": "stream",
          "name": "stdout",
          "text": [
            "True\n",
            "False\n",
            "False True\n"
          ]
        }
      ]
    },
    {
      "cell_type": "code",
      "source": [
        "#not in\n",
        "a='''Hello world'''\n",
        "print(\"hello\"not in a)\n",
        "print(\"Hello\" not in a)\n"
      ],
      "metadata": {
        "colab": {
          "base_uri": "https://localhost:8080/"
        },
        "id": "HVD_xSIvBSSb",
        "outputId": "01056461-a695-44d8-f13d-11f830e64f04"
      },
      "execution_count": null,
      "outputs": [
        {
          "output_type": "stream",
          "name": "stdout",
          "text": [
            "True\n",
            "False\n"
          ]
        }
      ]
    },
    {
      "cell_type": "code",
      "source": [
        "#slicing\n",
        "add =\"\"\" Hi I'm Hemika\n",
        " I come by bus\"\"\"\n",
        "print(add[2])\n",
        "print(add[2:])\n",
        "print(add[0:])\n",
        "print(add[-1])\n",
        "print(add[2:-1])\n",
        "print(add[:-4])\n"
      ],
      "metadata": {
        "colab": {
          "base_uri": "https://localhost:8080/"
        },
        "id": "VPKBeXBTB9KU",
        "outputId": "f5bc6c90-8353-4a87-ea03-513c44204152"
      },
      "execution_count": null,
      "outputs": [
        {
          "output_type": "stream",
          "name": "stdout",
          "text": [
            "i\n",
            "i I'm Hemika\n",
            " I come by bus\n",
            " Hi I'm Hemika\n",
            " I come by bus\n",
            "s\n",
            "i I'm Hemika\n",
            " I come by bu\n",
            " Hi I'm Hemika\n",
            " I come by\n"
          ]
        }
      ]
    },
    {
      "cell_type": "code",
      "source": [
        "#slicing\n",
        "add =\"\"\" Hi I'm Hemika\n",
        " I come by bus\"\"\"\n",
        "print(add[3:],add[:-2],add[-5:-2])\n",
        "print(add[-5:-2])\n",
        "print(add[-4:])\n",
        "#to reverse\n",
        "print(add[::-1])#[::-1] means start at the end of the string and end at position 0, move with the step -1, negative one, which means one step backwards.\n"
      ],
      "metadata": {
        "colab": {
          "base_uri": "https://localhost:8080/"
        },
        "id": "H8mz1B0mD670",
        "outputId": "b1715c1b-7bb2-438d-c8cf-c8465fa862f6"
      },
      "execution_count": null,
      "outputs": [
        {
          "output_type": "stream",
          "name": "stdout",
          "text": [
            " I'm Hemika\n",
            " I come by bus  Hi I'm Hemika\n",
            " I come by b y b\n",
            "y b\n",
            " bus\n",
            "sub yb emoc I \n",
            "akimeH m'I iH \n"
          ]
        }
      ]
    },
    {
      "cell_type": "code",
      "source": [
        "##Modify strings\n",
        "a='''  Hello   \n",
        "w orld '''\n",
        "# to upper case\n",
        "print(a.upper())\n",
        "# to lower case\n",
        "print(a.lower())\n",
        " #to remove space before/after the text\n",
        "print(a.strip())\n",
        "# to replace a Letter in a string\n",
        "print(a.replace( \"H\",\"h\"))\n",
        "print(a.replace(\"l\",\"L\"))\n",
        "print(a.replace(\"H\",\"Hemika\"))\n",
        "#split\n",
        "print(a.split(\",\"))#split at ,\n",
        "\n",
        "\n",
        "\n",
        "\n"
      ],
      "metadata": {
        "colab": {
          "base_uri": "https://localhost:8080/"
        },
        "id": "4WkPKqvADcV3",
        "outputId": "8f7a1cc4-11c5-4a53-fe2e-fda80022dfeb"
      },
      "execution_count": null,
      "outputs": [
        {
          "output_type": "stream",
          "name": "stdout",
          "text": [
            "  HELLO   \n",
            "W ORLD \n",
            "  hello   \n",
            "w orld \n",
            "Hello   \n",
            "w orld\n",
            "  hello   \n",
            "w orld \n",
            "  HeLLo   \n",
            "w orLd \n",
            "  Hemikaello   \n",
            "w orld \n",
            "['  Hello   \\nw orld ']\n"
          ]
        }
      ]
    },
    {
      "cell_type": "code",
      "source": [
        "#string concatenation\n",
        "a=\"Hi\"\n",
        "b='Hemika'\n",
        "c=a+b\n",
        "print(c)\n",
        "print(a + \" \"+ b)"
      ],
      "metadata": {
        "colab": {
          "base_uri": "https://localhost:8080/"
        },
        "id": "zkuX8FtQFpn1",
        "outputId": "f751111d-1d8e-4100-bf8c-2252da752415"
      },
      "execution_count": null,
      "outputs": [
        {
          "output_type": "stream",
          "name": "stdout",
          "text": [
            "HiHemika\n",
            "Hi Hemika\n"
          ]
        }
      ]
    },
    {
      "cell_type": "code",
      "source": [
        "#Format strings\n",
        "#format() can be used to combine strings and numbers\n",
        "name=\"Hemika\"\n",
        "age=18\n",
        "result=\"My name is {} ,and I'm {} years\"\n",
        "print(result.format(name,age))\n",
        "#using index\n",
        "result=\"I'm {1}, my name is {0}\"\n",
        "print(result.format(name,age))"
      ],
      "metadata": {
        "colab": {
          "base_uri": "https://localhost:8080/"
        },
        "id": "1gBUKfvPJnO1",
        "outputId": "d9de3bf0-8459-44be-c805-349d34025bef"
      },
      "execution_count": null,
      "outputs": [
        {
          "output_type": "stream",
          "name": "stdout",
          "text": [
            "My name is Hemika ,and I'm 18 years\n",
            "I'm 18, my name is Hemika\n"
          ]
        }
      ]
    },
    {
      "cell_type": "code",
      "source": [
        "#Escape character \n",
        "#\\\" \n",
        "a=\"1. We are \\\"playing\\\"cricket.\"\n",
        "print(a)\n",
        "#\\'\n",
        "a='2. It\\'s ok'\n",
        "print(a)\n",
        "#\t\\\\\tBackslash  to insert one \\ \n",
        "a=\"3. hello \\\\ world\"\n",
        "print(a)\n",
        "#\\n\tNew Line\n",
        "a=\"4. hello \\nworld\"\n",
        "print(a)\n",
        "#\\r\tCarriage Return\t\n",
        "a=\"5. hello \\rworld\"\n",
        "print(a)\n",
        "#\\t\tTab\n",
        "a=\"6. hello \\tworld\"\n",
        "print(a)\n",
        "#\\b\tBackspace\t\n",
        "a=\"7. hello \\bworld\"\n",
        "print(a)\n",
        "#\\f\tForm Feed\t\n",
        "a=\"8. hello \\fworld\"\n",
        "print(a)\n"
      ],
      "metadata": {
        "colab": {
          "base_uri": "https://localhost:8080/"
        },
        "id": "vng7mY9WMBa-",
        "outputId": "7d483f13-bf77-45a5-db90-95902fc5ba3e"
      },
      "execution_count": null,
      "outputs": [
        {
          "output_type": "stream",
          "name": "stdout",
          "text": [
            "1. We are \"playing\"cricket.\n",
            "2. It's ok\n",
            "3. hello \\ world\n",
            "4. hello \n",
            "world\n",
            "5. hello \rworld\n",
            "6. hello \tworld\n",
            "7. hello \bworld\n",
            "8. hello \fworld\n"
          ]
        }
      ]
    },
    {
      "cell_type": "code",
      "source": [
        "#STRING METHODS - They do not modify a string, they return new values\n"
      ],
      "metadata": {
        "id": "y6awSeqEPiJX"
      },
      "execution_count": null,
      "outputs": []
    },
    {
      "cell_type": "code",
      "source": [
        "#slices problem1\n",
        "a=input(\"Enter name \")\n",
        "print(a[2])\n",
        "print(a[1:])\n",
        "print(a[:5])\n",
        "print(a[0:-2]+\"\\n\")\n",
        "for i in range (len(a)):\n",
        "  if(i%2==0):\n",
        "    print(\"\\b\"+a[i])\n",
        "for i in range (len(a)):\n",
        "  if(i%2==1):\n",
        "    print(\"\\b\"+a[i])\n",
        "print(a[::-1])\n",
        "rev=a[::-1]\n",
        "for i in range (len(rev)):\n",
        "  if(i%2==1):\n",
        "    print(\"\\b\"+rev[i])\n",
        "print(len(a))\n",
        "\n"
      ],
      "metadata": {
        "colab": {
          "base_uri": "https://localhost:8080/"
        },
        "id": "KGNegKqXghy4",
        "outputId": "1c973c6d-7ff0-420b-99f6-51fa4a23c59a"
      },
      "execution_count": null,
      "outputs": [
        {
          "output_type": "stream",
          "name": "stdout",
          "text": [
            "Enter name HelloWorld\n",
            "l\n",
            "elloWorld\n",
            "Hello\n",
            "HelloWor\n",
            "\n",
            "\bH\n",
            "\bl\n",
            "\bo\n",
            "\bo\n",
            "\bl\n",
            "\be\n",
            "\bl\n",
            "\bW\n",
            "\br\n",
            "\bd\n",
            "dlroWolleH\n",
            "\bl\n",
            "\bo\n",
            "\bo\n",
            "\bl\n",
            "\bH\n",
            "10\n"
          ]
        }
      ]
    },
    {
      "cell_type": "markdown",
      "source": [
        ""
      ],
      "metadata": {
        "id": "YE-DhP5C8F1z"
      }
    }
  ]
}