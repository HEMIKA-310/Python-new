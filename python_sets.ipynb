{
  "nbformat": 4,
  "nbformat_minor": 0,
  "metadata": {
    "colab": {
      "name": "python_sets.ipynb",
      "provenance": [],
      "authorship_tag": "ABX9TyNHhtJTqrkV7KVGaiWyX9pd",
      "include_colab_link": true
    },
    "kernelspec": {
      "name": "python3",
      "display_name": "Python 3"
    },
    "language_info": {
      "name": "python"
    }
  },
  "cells": [
    {
      "cell_type": "markdown",
      "metadata": {
        "id": "view-in-github",
        "colab_type": "text"
      },
      "source": [
        "<a href=\"https://colab.research.google.com/github/HEMIKA-310/Python-practice/blob/Module-2/python_sets.ipynb\" target=\"_parent\"><img src=\"https://colab.research.google.com/assets/colab-badge.svg\" alt=\"Open In Colab\"/></a>"
      ]
    },
    {
      "cell_type": "code",
      "execution_count": null,
      "metadata": {
        "colab": {
          "base_uri": "https://localhost:8080/"
        },
        "id": "UZYNuN7oTzvn",
        "outputId": "f342dd88-f5ed-4145-b663-c81b4e855d68"
      },
      "outputs": [
        {
          "output_type": "stream",
          "name": "stdout",
          "text": [
            "{1, 2, 3}\n",
            "{1, 2, 3}\n"
          ]
        },
        {
          "output_type": "execute_result",
          "data": {
            "text/plain": [
              "set"
            ]
          },
          "metadata": {},
          "execution_count": 6
        }
      ],
      "source": [
        "#sets\n",
        "'''To store multiple items in a single variable\n",
        "unordered\n",
        "unchangeable\n",
        "unindexed\n",
        "no duplicates allowed'''\n",
        "set1={1,2,3}\n",
        "print(set1)\n",
        "set2={1,1,1,2,3}\n",
        "print(set2)\n",
        "type(set1)\n"
      ]
    },
    {
      "cell_type": "code",
      "source": [
        "# To construct a set\n",
        "s=set((1,1,1,3,4,2))\n",
        "print(s)"
      ],
      "metadata": {
        "colab": {
          "base_uri": "https://localhost:8080/"
        },
        "id": "aarfW15jVhOR",
        "outputId": "ba8bbe3c-9e7f-48c9-90a6-7b0b8688db66"
      },
      "execution_count": null,
      "outputs": [
        {
          "output_type": "stream",
          "name": "stdout",
          "text": [
            "{1, 2, 3, 4}\n"
          ]
        }
      ]
    },
    {
      "cell_type": "code",
      "source": [
        "#set data type _can be of any data type simultaneously\n",
        "s={1,\"abc,6+0j\"}\n",
        "print(s)"
      ],
      "metadata": {
        "colab": {
          "base_uri": "https://localhost:8080/"
        },
        "id": "UWpKZEBYVQOq",
        "outputId": "d5bba3af-f7fc-4778-b49b-021ec9854df6"
      },
      "execution_count": null,
      "outputs": [
        {
          "output_type": "stream",
          "name": "stdout",
          "text": [
            "{1, 'abc,6+0j'}\n"
          ]
        }
      ]
    },
    {
      "cell_type": "code",
      "source": [
        "#length of set\n",
        "set1={1,1,1,2,3}\n",
        "print(len(set1))"
      ],
      "metadata": {
        "colab": {
          "base_uri": "https://localhost:8080/"
        },
        "id": "Qz65gJuNU47V",
        "outputId": "dc5b4541-2c3e-4c85-a920-8b20d85c751c"
      },
      "execution_count": null,
      "outputs": [
        {
          "output_type": "stream",
          "name": "stdout",
          "text": [
            "3\n"
          ]
        }
      ]
    },
    {
      "cell_type": "code",
      "source": [
        "#Access items\n",
        "s1={\"1\",\"apple\",\"ball\"}\n",
        "\n",
        "for x in s1:\n",
        "  print(s1)\n",
        "  '''prints random as set is unordered \n",
        "  prference:char>int'''\n",
        "\n",
        "print(\"apple\" in s1)"
      ],
      "metadata": {
        "colab": {
          "base_uri": "https://localhost:8080/"
        },
        "id": "lMmWHKJ3V1ax",
        "outputId": "73e9eceb-2ec9-49fa-8e42-caba5138672c"
      },
      "execution_count": null,
      "outputs": [
        {
          "output_type": "stream",
          "name": "stdout",
          "text": [
            "{'apple', 'ball', '1'}\n",
            "{'apple', 'ball', '1'}\n",
            "{'apple', 'ball', '1'}\n",
            "True\n"
          ]
        }
      ]
    },
    {
      "cell_type": "code",
      "source": [
        "#add set items\n",
        "'''to add 1 element use .add()'''\n",
        "set={1,2,3,\"apple\"}\n",
        "set.add(\"chocolate\")\n",
        "print(set)\n",
        "'''to add elements from one set to another use .update()\n",
        "you can also add dictionaries,tuplles, lists (add any iterable)to the set'''\n",
        "s1={1,2,3}\n",
        "s2={4,5,6}\n",
        "l=[\"hemika\",]\n",
        "s1.update(s2)\n",
        "print(s1)\n",
        "s2.update(l)\n",
        "print(s2)"
      ],
      "metadata": {
        "colab": {
          "base_uri": "https://localhost:8080/"
        },
        "id": "ac9AnS_fWloS",
        "outputId": "3a48c3cd-c2c5-4fd5-f989-12c5393cf77a"
      },
      "execution_count": null,
      "outputs": [
        {
          "output_type": "stream",
          "name": "stdout",
          "text": [
            "{1, 2, 3, 'apple', 'chocolate'}\n",
            "{1, 2, 3, 4, 5, 6}\n",
            "{'hemika', 4, 5, 6}\n"
          ]
        }
      ]
    },
    {
      "cell_type": "code",
      "source": [
        "#remove set items\n",
        "'''To remove an item .remove() or .discard()\n",
        "if items does not exist remove wil raise an error wheras dicard doesn't'''\n",
        "s1={\"a\",\"g\",\"h\",\"s\",\"n\",1,2,3}\n",
        "s1.remove(1)\n",
        "print(s1)\n",
        "s1.remove(2)\n",
        "print(s1)\n",
        "''' .pop() is used to remove last item\n",
        "but as set is unordered it removes random item'''\n",
        "s1.pop()\n",
        "print(s1)\n"
      ],
      "metadata": {
        "colab": {
          "base_uri": "https://localhost:8080/"
        },
        "id": "3bbGgFZCZcQK",
        "outputId": "6eb34af1-803a-43a8-f2d6-f4a3877dd24a"
      },
      "execution_count": null,
      "outputs": [
        {
          "output_type": "stream",
          "name": "stdout",
          "text": [
            "{2, 's', 3, 'a', 'n', 'g', 'h'}\n",
            "{'s', 3, 'a', 'n', 'g', 'h'}\n",
            "{3, 'a', 'n', 'g', 'h'}\n"
          ]
        }
      ]
    },
    {
      "cell_type": "code",
      "source": [
        "#To delete complete set use del() and to empty use clear()\n",
        "s1={1,2,3}\n",
        "s1.clear()\n",
        "print(s1)\n",
        "s2={3}\n",
        "del s2\n",
        "'''print(s2) gives error as set is deleted'''\n"
      ],
      "metadata": {
        "colab": {
          "base_uri": "https://localhost:8080/",
          "height": 53
        },
        "id": "vA7a5QhVbd-Q",
        "outputId": "19cdde6b-e0cc-4a0e-bb3e-2945ff6060bd"
      },
      "execution_count": null,
      "outputs": [
        {
          "output_type": "stream",
          "name": "stdout",
          "text": [
            "set()\n"
          ]
        },
        {
          "output_type": "execute_result",
          "data": {
            "text/plain": [
              "'print(s2) gives error as set is deleted'"
            ],
            "application/vnd.google.colaboratory.intrinsic+json": {
              "type": "string"
            }
          },
          "metadata": {},
          "execution_count": 32
        }
      ]
    },
    {
      "cell_type": "code",
      "source": [
        "#access items using for loop\n",
        "s1 = {\"apple\", \"banana\", \"cherry\"}\n",
        "\n",
        "for x in set:\n",
        "  print(x)\n",
        "\n",
        "s2 = {\"1\",\"apple\",\"ball\",\"x\"}\n",
        "\n",
        "for x in s2:\n",
        "  print(s2)"
      ],
      "metadata": {
        "colab": {
          "base_uri": "https://localhost:8080/"
        },
        "id": "cxxArWvrcZ4I",
        "outputId": "8b80e28c-c50b-4ab5-a5a4-fb5dd51fc450"
      },
      "execution_count": null,
      "outputs": [
        {
          "output_type": "stream",
          "name": "stdout",
          "text": [
            "cherry\n",
            "apple\n",
            "banana\n",
            "{'apple', 'x', 'ball', '1'}\n",
            "{'apple', 'x', 'ball', '1'}\n",
            "{'apple', 'x', 'ball', '1'}\n",
            "{'apple', 'x', 'ball', '1'}\n"
          ]
        }
      ]
    },
    {
      "cell_type": "code",
      "source": [
        "#join two sets\n",
        "'''use .union() [returns a new set] or\n",
        " .update() [to inset elements into the set]'''\n",
        "s1={\"a\",\"b\",\"c\",1}\n",
        "s2={\"s\",\"g\",\"h\",1}\n",
        "s3=s1.union(s2)\n",
        "print(s1)\n",
        "print(s2)\n",
        "print(s3)\n",
        "s1.update(s2)\n",
        "print(s1)"
      ],
      "metadata": {
        "colab": {
          "base_uri": "https://localhost:8080/"
        },
        "id": "_JEIjz6OdIWZ",
        "outputId": "03e793bb-e953-46e0-c54b-4c9f0010bd37"
      },
      "execution_count": null,
      "outputs": [
        {
          "output_type": "stream",
          "name": "stdout",
          "text": [
            "{'b', 1, 'a', 'c'}\n",
            "{'g', 'h', 's', 1}\n",
            "{1, 's', 'a', 'g', 'c', 'b', 'h'}\n",
            "{1, 's', 'a', 'g', 'c', 'b', 'h'}\n"
          ]
        }
      ]
    },
    {
      "cell_type": "code",
      "source": [
        "''' intersection_update()  to return items\n",
        "    intersection() to return a new set '''\n",
        "s1={\"a\",\"b\",\"c\",1,2,3}\n",
        "s2={\"s\",\"g\",\"h\",1,2,3}\n",
        "s1.intersection_update(s2)\n",
        "print(s1)\n",
        "s3=s1.intersection(s2)\n",
        "print(s3)"
      ],
      "metadata": {
        "colab": {
          "base_uri": "https://localhost:8080/"
        },
        "id": "SmT105jye5RX",
        "outputId": "83143178-5fb8-4aa3-856c-b34f202d707a"
      },
      "execution_count": null,
      "outputs": [
        {
          "output_type": "stream",
          "name": "stdout",
          "text": [
            "{1, 2, 3}\n",
            "{1, 2, 3}\n"
          ]
        }
      ]
    },
    {
      "cell_type": "code",
      "source": [
        "#To remove duplicates\n",
        "s1={\"a\",1,1,1,2,3}\n",
        "s2={10,10,10,1,1,1,9.8}\n",
        "s1.symmetric_difference_update(s2)\n",
        "'''The symmetric_difference_update() method will keep only the elements that are NOT present in both sets.'''\n",
        "print(s1)\n",
        "s3=s1.symmetric_difference(s2)\n",
        "'''Return a set that contains all items from both sets, except items that are present in both'''\n",
        "print(s3)"
      ],
      "metadata": {
        "colab": {
          "base_uri": "https://localhost:8080/"
        },
        "id": "bKP3uzmme4Lx",
        "outputId": "c565e903-d8b8-424c-b888-9a9f93c9251f"
      },
      "execution_count": null,
      "outputs": [
        {
          "output_type": "stream",
          "name": "stdout",
          "text": [
            "{2, 3, 9.8, 10, 'a'}\n",
            "{1, 2, 3, 'a'}\n"
          ]
        }
      ]
    }
  ]
}