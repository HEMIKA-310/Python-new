{
  "nbformat": 4,
  "nbformat_minor": 0,
  "metadata": {
    "colab": {
      "name": "m2_programs.ipynb",
      "provenance": [],
      "authorship_tag": "ABX9TyPQyh11uygHMEN+IxLVqp9m",
      "include_colab_link": true
    },
    "kernelspec": {
      "name": "python3",
      "display_name": "Python 3"
    },
    "language_info": {
      "name": "python"
    }
  },
  "cells": [
    {
      "cell_type": "markdown",
      "metadata": {
        "id": "view-in-github",
        "colab_type": "text"
      },
      "source": [
        "<a href=\"https://colab.research.google.com/github/HEMIKA-310/Python-new/blob/Assignment2/m2_programs.ipynb\" target=\"_parent\"><img src=\"https://colab.research.google.com/assets/colab-badge.svg\" alt=\"Open In Colab\"/></a>"
      ]
    },
    {
      "cell_type": "code",
      "execution_count": null,
      "metadata": {
        "id": "TThpw-s5bllz",
        "colab": {
          "base_uri": "https://localhost:8080/"
        },
        "outputId": "7e3adea5-6440-4d07-ad64-ad1c059c0141"
      },
      "outputs": [
        {
          "output_type": "stream",
          "name": "stdout",
          "text": [
            "n=6\n",
            "r=1\n",
            "nCr= 6.0\n"
          ]
        }
      ],
      "source": [
        "#1 Create a function which accepts two inputs from the user and compute nCr\n",
        "def fact(x):\n",
        "  f=1\n",
        "  if x==0:\n",
        "    x=1\n",
        "  for i in range(1,x+1):\n",
        "    f=f*i\n",
        "  return f\n",
        "n=int(input(\"n=\"))\n",
        "r=int(input('r='))\n",
        "k=fact(n)\n",
        "l=fact(r)\n",
        "m=fact(n-r)\n",
        "c=k/(l*m)\n",
        "print('nCr=',c)\n",
        "    \n"
      ]
    },
    {
      "cell_type": "code",
      "source": [
        "#2 Recursive function to compute GCD of 2 numbers\n",
        "def gcd(x,y):\n",
        "  if (x==0):\n",
        "    return y\n",
        "  elif (y==0):\n",
        "    return x\n",
        "  else:\n",
        "    return(gcd(y,x%y))\n",
        "a=int(input())\n",
        "b=int(input())\n",
        "print(gcd(a,b)) "
      ],
      "metadata": {
        "id": "WPvzcg3Eboto",
        "colab": {
          "base_uri": "https://localhost:8080/"
        },
        "outputId": "1e38cae6-2e0e-45b9-a7da-2d714d5dde32"
      },
      "execution_count": null,
      "outputs": [
        {
          "output_type": "stream",
          "name": "stdout",
          "text": [
            "24\n",
            "36\n",
            "12\n"
          ]
        }
      ]
    },
    {
      "cell_type": "code",
      "source": [
        "#3 Recursive function to find product of two numbers\n",
        "\n",
        "def pdt(n1, n2):\n",
        "    if(n1 < n2):\n",
        "        return pdt(n2, n1)\n",
        "    elif(n2 != 0):\n",
        "        return(n1 + pdt(n1,n2-1))\n",
        "    else:\n",
        "        return 0\n",
        "n1=int(input(\"n1: \"))\n",
        "n2=int(input(\"n2: \"))\n",
        "print(pdt(n1, n2))"
      ],
      "metadata": {
        "id": "QilrMY80bo0_",
        "colab": {
          "base_uri": "https://localhost:8080/"
        },
        "outputId": "3def3207-d3c6-4e61-803a-8f396d4c6bb8"
      },
      "execution_count": null,
      "outputs": [
        {
          "output_type": "stream",
          "name": "stdout",
          "text": [
            "n1: 7\n",
            "n2: 9\n",
            "63\n"
          ]
        }
      ]
    },
    {
      "cell_type": "code",
      "source": [
        "#4 Recursive function to generate Fibonacci series\n",
        "def fibo(n):\n",
        "   if n <= 1:\n",
        "       return n\n",
        "   else:\n",
        "       return(fibo(n-1) + fibo(n-2))\n",
        "\n",
        "nterms = int(input(\"n: \"))\n",
        "if nterms <= 0:\n",
        "   print(\"Plese enter a positive integer\")\n",
        "else:\n",
        "   print(\"Fibonacci sequence:\")\n",
        "   for i in range(nterms):\n",
        "       print(fibo(i))\n"
      ],
      "metadata": {
        "id": "WNdeHuqSbo8C",
        "colab": {
          "base_uri": "https://localhost:8080/"
        },
        "outputId": "479aa870-449c-4817-b620-cb9071d41adc"
      },
      "execution_count": null,
      "outputs": [
        {
          "output_type": "stream",
          "name": "stdout",
          "text": [
            "n: 7\n",
            "Fibonacci sequence:\n",
            "0\n",
            "1\n",
            "1\n",
            "2\n",
            "3\n",
            "5\n",
            "8\n"
          ]
        }
      ]
    },
    {
      "cell_type": "code",
      "source": [
        "#5 Program to print a specified list after removing the 0th, 4th and 5th elements. \n",
        "#Sample List : ['Red', 'Green', 'White', 'Black', 'Pink', 'Yellow'] \n",
        "#Expected Output : ['Green', 'White', 'Black']\n",
        "water=['stream','beach','well','pond','ocean','lake']\n",
        "water.pop()\n",
        "water.pop(4)\n",
        "water.pop(0)\n",
        "print(water)"
      ],
      "metadata": {
        "id": "hEizglXNbo_y",
        "colab": {
          "base_uri": "https://localhost:8080/"
        },
        "outputId": "b0a6e93a-a6e5-4e88-fcd5-1f7dbf366dab"
      },
      "execution_count": null,
      "outputs": [
        {
          "output_type": "stream",
          "name": "stdout",
          "text": [
            "['beach', 'well', 'pond']\n"
          ]
        }
      ]
    },
    {
      "cell_type": "code",
      "source": [
        "#6 Program to get the difference between the two lists\n",
        "list1 = [1, 2, 3, 4]\n",
        "list2 = [2, 3]\n",
        "list(set(list1) - set(list2))"
      ],
      "metadata": {
        "id": "wkd2UWpnbpC-",
        "colab": {
          "base_uri": "https://localhost:8080/"
        },
        "outputId": "f9795668-6f3d-4e0b-ff3e-78a316414261"
      },
      "execution_count": null,
      "outputs": [
        {
          "output_type": "execute_result",
          "data": {
            "text/plain": [
              "[1, 4]"
            ]
          },
          "metadata": {},
          "execution_count": 3
        }
      ]
    },
    {
      "cell_type": "code",
      "source": [
        "#7Program to find the second smallest number and second largest number in a list.\n",
        "num=[2,5,9,3,47,59,93,38,1]\n",
        "num.sort()\n",
        "print('second smallest num is',num[1])\n",
        "print('second largest num is',num[-2])\n",
        "print(num)"
      ],
      "metadata": {
        "id": "l13GDkEUbpFw",
        "colab": {
          "base_uri": "https://localhost:8080/"
        },
        "outputId": "5dae0ce0-a4d2-4cf1-ff8e-a7f4f7d5a492"
      },
      "execution_count": null,
      "outputs": [
        {
          "output_type": "stream",
          "name": "stdout",
          "text": [
            "second smallest num is 2\n",
            "second largest num is 59\n",
            "[1, 2, 3, 5, 9, 38, 47, 59, 93]\n"
          ]
        }
      ]
    },
    {
      "cell_type": "code",
      "source": [
        "#8x Given a list of numbers of list, write a Python program to create a list of tuples \n",
        "#having first element as the number and second element as the square of the number\n",
        "list=[2,3,4,5]\n",
        "result=[(val,pow(val,2)) for val in list] \n",
        "print(result)"
      ],
      "metadata": {
        "id": "8xxjnBDkbpIM",
        "colab": {
          "base_uri": "https://localhost:8080/"
        },
        "outputId": "b65bb879-b503-4b26-9bce-45bf01c857bb"
      },
      "execution_count": null,
      "outputs": [
        {
          "output_type": "stream",
          "name": "stdout",
          "text": [
            "[(2, 4), (3, 9), (4, 16), (5, 25)]\n"
          ]
        }
      ]
    },
    {
      "cell_type": "code",
      "source": [
        "#9 Given list of tuples, remove all the tuples with length K. \n",
        "#Input : test_list = [(4, 5), (4, ), (8, 6, 7), (1, ), (3, 4, 6, 7)], K = 2 \n",
        "#Output : [(4, ), (8, 6, 7), (1, ), (3, 4, 6, 7)] \n",
        "#Explanation : (4, 5) of len = 2 is removed.\n",
        "test_list = [(4, 5), (4, ), (8, 6, 7), (1, ), (3, 4, 6, 7)]\n",
        "  \n",
        "print(\"The original list : \" + str(test_list))\n",
        "K = 1\n",
        "res = [ele for ele in test_list if len(ele) != K]\n",
        "print(\"Filtered list : \" + str(res))"
      ],
      "metadata": {
        "id": "5_1MZjjLbpLU",
        "colab": {
          "base_uri": "https://localhost:8080/"
        },
        "outputId": "5cb70dec-5601-47a0-aa6e-f4b6e09b73b4"
      },
      "execution_count": null,
      "outputs": [
        {
          "output_type": "stream",
          "name": "stdout",
          "text": [
            "The original list : [(4, 5), (4,), (8, 6, 7), (1,), (3, 4, 6, 7)]\n",
            "Filtered list : [(4, 5), (8, 6, 7), (3, 4, 6, 7)]\n"
          ]
        }
      ]
    },
    {
      "cell_type": "code",
      "source": [
        "#10 Program to generate and print a dictionary that contains a number (between 1 \n",
        "#and n) in the form (x, x*x). \n",
        "#Sample Input: (n=5) : \n",
        "#Expected Output : {1: 1, 2: 4, 3: 9, 4: 16, 5: 25}\n",
        "n=int(input(\"Input a number \"))\n",
        "d = dict()\n",
        "for x in range(1,n+1):\n",
        "    d[x]=x*x\n",
        "print(d) "
      ],
      "metadata": {
        "id": "BHrAFNOsbpOI",
        "colab": {
          "base_uri": "https://localhost:8080/"
        },
        "outputId": "e3cf4a56-8c76-47bc-d72a-8424685cc69f"
      },
      "execution_count": null,
      "outputs": [
        {
          "output_type": "stream",
          "name": "stdout",
          "text": [
            "Input a number 5\n",
            "{1: 1, 2: 4, 3: 9, 4: 16, 5: 25}\n"
          ]
        }
      ]
    },
    {
      "cell_type": "code",
      "source": [
        "#11 Program to remove a key from a dictionary\n",
        "a_dict = {'John': 32, 'Mel': 31, 'Nik': 33, 'Katie': 32, 'James': 29, 'Matt': 35}\n",
        "a_dict.pop('John')\n",
        "print(a_dict)"
      ],
      "metadata": {
        "id": "p7L61fKQbpRG",
        "colab": {
          "base_uri": "https://localhost:8080/"
        },
        "outputId": "9144ed60-67d8-48b3-9150-c87e3d3af524"
      },
      "execution_count": null,
      "outputs": [
        {
          "output_type": "stream",
          "name": "stdout",
          "text": [
            "{'Mel': 31, 'Nik': 33, 'Katie': 32, 'James': 29, 'Matt': 35}\n"
          ]
        }
      ]
    },
    {
      "cell_type": "code",
      "source": [
        "#12 Program to get the maximum and minimum value in a dict\n",
        "dict1 ={\n",
        "    'x':50,\n",
        "    'y':234,\n",
        "    'z':4\n",
        "}\n",
        "max_val= max(dict1.keys(), key=(lambda k: dict1[k]))\n",
        "min_val= min(dict1.keys(), key=(lambda k: dict1[k]))\n",
        "\n",
        "print(\"Maximum value is : \",dict1[max_val])\n",
        "print(\"Minimum value is : \",dict1[min_val])"
      ],
      "metadata": {
        "id": "B_jFA7OBbpTt",
        "colab": {
          "base_uri": "https://localhost:8080/"
        },
        "outputId": "0bb73352-8e1a-438d-e0ed-4975b14e1965"
      },
      "execution_count": null,
      "outputs": [
        {
          "output_type": "stream",
          "name": "stdout",
          "text": [
            "Maximum value is :  234\n",
            "Minimum value is :  4\n"
          ]
        }
      ]
    },
    {
      "cell_type": "code",
      "source": [
        "#15 Program for replacing one substring by another For example - Rabbit - Replace 'bb' by 'cc'\n",
        "animal='rabbit'\n",
        "print(animal.replace('bb','cc'))\n",
        "print(animal)"
      ],
      "metadata": {
        "id": "wmpav-rMb20q",
        "colab": {
          "base_uri": "https://localhost:8080/"
        },
        "outputId": "3688ef9c-c0fe-494a-e589-0149cfc384f8"
      },
      "execution_count": null,
      "outputs": [
        {
          "output_type": "stream",
          "name": "stdout",
          "text": [
            "raccit\n",
            "rabbit\n"
          ]
        }
      ]
    },
    {
      "cell_type": "code",
      "source": [
        "#Program to count the number of strings where the string length is 2 or more and the first and last character are same from a given list of strings \n",
        "#Python function that accepts a string and calculates the number of uppercase letters and lowercase letters.\n",
        "def count(st):\n",
        "  c=k=0\n",
        "  for i in st:\n",
        "    if i.isupper():\n",
        "      c=c+1\n",
        "    elif i.islower():\n",
        "      k=k+1 \n",
        "  print('no of upper case letters =',c)   \n",
        "  print('no of lower case letters =',k)    \n",
        "count(st=input(\"enter a string \"))         "
      ],
      "metadata": {
        "id": "8KjL5GElb3Ka",
        "colab": {
          "base_uri": "https://localhost:8080/"
        },
        "outputId": "934aafc1-8ccc-498c-afa1-22f56603a878"
      },
      "execution_count": null,
      "outputs": [
        {
          "output_type": "stream",
          "name": "stdout",
          "text": [
            "enter a string Hemika\n",
            "no of upper case letters = 1\n",
            "no of lower case letters = 5\n"
          ]
        }
      ]
    },
    {
      "cell_type": "code",
      "source": [
        "#  Sample List : ['abc', 'xyz', 'aba', '1221'] Expected Result : 2\n",
        " \n",
        "def match_words(words):\n",
        " ctr=0\n",
        " for word in words:\n",
        "    if len(word)>1 and word [0] == word[-1]:\n",
        "      ctr +=1\n",
        " return ctr\n",
        "print(match_words(['abc', 'xyz', 'aba', '1221']))\n",
        "\n"
      ],
      "metadata": {
        "id": "GGZE7QP7fBrK",
        "colab": {
          "base_uri": "https://localhost:8080/"
        },
        "outputId": "f8d92ae9-9f31-4e92-c459-99a95ccdfc41"
      },
      "execution_count": null,
      "outputs": [
        {
          "output_type": "stream",
          "name": "stdout",
          "text": [
            "2\n"
          ]
        }
      ]
    }
  ]
}