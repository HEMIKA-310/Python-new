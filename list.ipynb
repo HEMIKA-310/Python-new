{
  "nbformat": 4,
  "nbformat_minor": 0,
  "metadata": {
    "colab": {
      "name": "list.ipynb",
      "provenance": [],
      "collapsed_sections": [],
      "authorship_tag": "ABX9TyOsLkzVLo+HNlVR/Mv0f36k",
      "include_colab_link": true
    },
    "kernelspec": {
      "name": "python3",
      "display_name": "Python 3"
    },
    "language_info": {
      "name": "python"
    }
  },
  "cells": [
    {
      "cell_type": "markdown",
      "metadata": {
        "id": "view-in-github",
        "colab_type": "text"
      },
      "source": [
        "<a href=\"https://colab.research.google.com/github/HEMIKA-310/Python-practice/blob/Module-2/list.ipynb\" target=\"_parent\"><img src=\"https://colab.research.google.com/assets/colab-badge.svg\" alt=\"Open In Colab\"/></a>"
      ]
    },
    {
      "cell_type": "code",
      "execution_count": null,
      "metadata": {
        "colab": {
          "base_uri": "https://localhost:8080/"
        },
        "id": "qBIMDjnh4g3-",
        "outputId": "953f5b72-69f4-41d6-cfc8-89c08cff66e7"
      },
      "outputs": [
        {
          "output_type": "stream",
          "name": "stdout",
          "text": [
            "apple\n",
            "['apple', 'orange', 'watermelon', 'mango', 'grapes']\n"
          ]
        }
      ],
      "source": [
        "#writing a list\n",
        "fruit=[\"apple\", \"orange\",\"watermelon\", \"mango\", \"grapes\"]\n",
        "print(fruit[0])\n",
        "print(fruit)"
      ]
    },
    {
      "cell_type": "code",
      "source": [
        "#list slicing\n",
        "fruit=[\"apple\", \"orange\",\"watermelon\", \"mango\", \"grapes\"]\n",
        "print(fruit[:3])\n",
        "print(fruit[3:])\n",
        "print(fruit[:])\n",
        "print(list[0:3])\n",
        "print(list[0:])\n",
        "print(list[:0])\n",
        "print(list[0:0])\n",
        "print(list[0:2])\n",
        "print(fruit[1:4])\n",
        "print(fruit[1:5])\n",
        "'orange'in fruit\n"
      ],
      "metadata": {
        "colab": {
          "base_uri": "https://localhost:8080/"
        },
        "id": "mc7M0GYi7kSN",
        "outputId": "09fb750f-15e2-4614-fbe1-28bd627cd8e8"
      },
      "execution_count": null,
      "outputs": [
        {
          "output_type": "stream",
          "name": "stdout",
          "text": [
            "['apple', 'orange', 'watermelon']\n",
            "['mango', 'grapes']\n",
            "['apple', 'orange', 'watermelon', 'mango', 'grapes']\n",
            "[2, ['a'], [1, 2.5, 0.2]]\n",
            "[2, ['a'], [1, 2.5, 0.2]]\n",
            "[]\n",
            "[]\n",
            "[2, ['a']]\n",
            "['orange', 'watermelon', 'mango']\n",
            "['orange', 'watermelon', 'mango', 'grapes']\n"
          ]
        },
        {
          "output_type": "execute_result",
          "data": {
            "text/plain": [
              "True"
            ]
          },
          "metadata": {},
          "execution_count": 56
        }
      ]
    },
    {
      "cell_type": "code",
      "source": [
        "fruit=['apple', 'orange','watermelon', 'mango', 'grapes']\n",
        "print(fruit[0:2])\n",
        "#negative indexing\n",
        "print(fruit[-1])\n",
        "print(fruit[-5])\n",
        "print(fruit[4])\n",
        "print(fruit[3:])\n",
        "print(fruit[1:3])\n",
        "#if print keyword is not used only last statement gets printed\n",
        "#only integers are used for indexing"
      ],
      "metadata": {
        "colab": {
          "base_uri": "https://localhost:8080/"
        },
        "id": "pnvjqOJs5q6G",
        "outputId": "8f4d5701-de19-4090-ad45-e0b93f4b9ab0"
      },
      "execution_count": null,
      "outputs": [
        {
          "output_type": "stream",
          "name": "stdout",
          "text": [
            "['apple', 'orange']\n",
            "grapes\n",
            "apple\n",
            "grapes\n",
            "['mango', 'grapes']\n",
            "['orange', 'watermelon']\n"
          ]
        }
      ]
    },
    {
      "cell_type": "code",
      "source": [
        "#list allows all the data types simultaneously\n",
        "list=[1, \"hello\", 9.8]\n",
        "print(list[0:3])\n",
        "print(list[0:])\n",
        "print(list[:0])\n",
        "print(list[0:0])\n",
        "print(list[0:2])"
      ],
      "metadata": {
        "colab": {
          "base_uri": "https://localhost:8080/"
        },
        "id": "m7kGmoiv8Dws",
        "outputId": "4ce5c6d6-1205-447d-f0a6-f0ebc3fdbec3"
      },
      "execution_count": null,
      "outputs": [
        {
          "output_type": "stream",
          "name": "stdout",
          "text": [
            "[1, 'hello', 9.8]\n",
            "[1, 'hello', 9.8]\n",
            "[]\n",
            "[]\n",
            "[1, 'hello']\n"
          ]
        }
      ]
    },
    {
      "cell_type": "code",
      "source": [
        "#empty list\n",
        "list=[ ]\n",
        "print(list[0:])"
      ],
      "metadata": {
        "colab": {
          "base_uri": "https://localhost:8080/"
        },
        "id": "5g-GZFkN9MYQ",
        "outputId": "97912ad9-adfd-4348-8336-d5ba35d89bf2"
      },
      "execution_count": null,
      "outputs": [
        {
          "output_type": "stream",
          "name": "stdout",
          "text": [
            "[]\n"
          ]
        }
      ]
    },
    {
      "cell_type": "code",
      "source": [
        "#nested list\n",
        "list=[2, [\"a\"], [1,2.5,0.2]]\n",
        "print(list[2])\n",
        "print(list[2][0:2])"
      ],
      "metadata": {
        "colab": {
          "base_uri": "https://localhost:8080/"
        },
        "id": "hoA4dIfb97U5",
        "outputId": "cf9d3f56-28d3-4e70-96bf-de20115d3e26"
      },
      "execution_count": null,
      "outputs": [
        {
          "output_type": "stream",
          "name": "stdout",
          "text": [
            "[1, 2.5, 0.2]\n",
            "[1, 2.5]\n"
          ]
        }
      ]
    },
    {
      "cell_type": "code",
      "source": [
        "#add/change list elements (to replace)\n",
        "set=[1, 2, 3, 4, 5]\n",
        "set[0]=9\n",
        "print(set)\n",
        "set[1:3]=[88,99,100,105]\n",
        "print(set)\n",
        "set[:]=[9.0,10] #here elements are added in place of first and second elements\n",
        "print(set)\n"
      ],
      "metadata": {
        "colab": {
          "base_uri": "https://localhost:8080/"
        },
        "id": "1kk5GJRK-wCQ",
        "outputId": "0a53e05d-d2e3-4706-aca2-2dcefbf19982"
      },
      "execution_count": null,
      "outputs": [
        {
          "output_type": "stream",
          "name": "stdout",
          "text": [
            "[9, 2, 3, 4, 5]\n",
            "[9, 88, 99, 100, 105, 4, 5]\n",
            "[9.0, 10]\n"
          ]
        }
      ]
    },
    {
      "cell_type": "code",
      "source": [
        "#append, insert, extend\n",
        "# append- added at the end of the list\n",
        "fruit=[\"apple\", \"orange\",\"watermelon\", \"mango\", \"grapes\"]\n",
        "fruit.append(\"Banana\")\n",
        "print(fruit)\n",
        "#insert- to insert in between the elements\n",
        "fruit.insert(2,\"cherry\")\n",
        "print(fruit)\n",
        "fruit.insert(-3,\"cherry\")\n",
        "print(fruit)\n",
        "#to extend\n",
        "fruit.extend([4,5,6])\n",
        "print(fruit)\n",
        "#to reverse the elements\n",
        "fruit.reverse()\n",
        "print(fruit)\n",
        "\n",
        "\n"
      ],
      "metadata": {
        "colab": {
          "base_uri": "https://localhost:8080/"
        },
        "id": "lGkUN-8XBlDU",
        "outputId": "023177a3-93d8-432e-ff02-f89a354b6d4f"
      },
      "execution_count": null,
      "outputs": [
        {
          "output_type": "stream",
          "name": "stdout",
          "text": [
            "['apple', 'orange', 'watermelon', 'mango', 'grapes', 'Banana']\n",
            "['apple', 'orange', 'cherry', 'watermelon', 'mango', 'grapes', 'Banana']\n",
            "['apple', 'orange', 'cherry', 'watermelon', 'cherry', 'mango', 'grapes', 'Banana']\n",
            "['apple', 'orange', 'cherry', 'watermelon', 'cherry', 'mango', 'grapes', 'Banana', 4, 5, 6]\n",
            "[6, 5, 4, 'Banana', 'grapes', 'mango', 'cherry', 'watermelon', 'cherry', 'orange', 'apple']\n"
          ]
        }
      ]
    },
    {
      "cell_type": "code",
      "source": [
        "#concatenate\n",
        "fruit=[\"apple\", \"orange\",\"watermelon\", \"mango\", \"grapes\"]\n",
        "print(fruit + [1,2,3])\n",
        "#to repeat\n",
        "print(0*fruit)\n",
        "print(3*fruit)"
      ],
      "metadata": {
        "colab": {
          "base_uri": "https://localhost:8080/"
        },
        "id": "M8HzEFTdGA0i",
        "outputId": "84f7be2f-5d7f-4a34-87c2-40fb2de00b20"
      },
      "execution_count": null,
      "outputs": [
        {
          "output_type": "stream",
          "name": "stdout",
          "text": [
            "['apple', 'orange', 'watermelon', 'mango', 'grapes', 1, 2, 3]\n",
            "[]\n",
            "['apple', 'orange', 'watermelon', 'mango', 'grapes', 'apple', 'orange', 'watermelon', 'mango', 'grapes', 'apple', 'orange', 'watermelon', 'mango', 'grapes']\n"
          ]
        }
      ]
    },
    {
      "cell_type": "code",
      "source": [
        "#finding index\n",
        "thislist = [\"apple\", \"banana\", \"cherry\", \"apple\", \"cherry\"]\n",
        "a=thislist.index(\"cherry\")\n",
        "print(a)\n",
        "a=thislist.index(\"apple\")\n",
        "print(a)\n",
        "\n"
      ],
      "metadata": {
        "colab": {
          "base_uri": "https://localhost:8080/"
        },
        "id": "H6M9_g5-GqFC",
        "outputId": "5712df88-ff3e-4107-a17c-ce9d77ee4c04"
      },
      "execution_count": null,
      "outputs": [
        {
          "output_type": "stream",
          "name": "stdout",
          "text": [
            "2\n",
            "0\n"
          ]
        }
      ]
    },
    {
      "cell_type": "code",
      "source": [
        "#length of list\n",
        "n=[1,99,77,66,1087,4,10,1]\n",
        "print(len(n))\n"
      ],
      "metadata": {
        "colab": {
          "base_uri": "https://localhost:8080/"
        },
        "id": "QSBPaAGnMPBu",
        "outputId": "ea0b2032-9626-46fb-eaea-7c8351afa609"
      },
      "execution_count": null,
      "outputs": [
        {
          "output_type": "stream",
          "name": "stdout",
          "text": [
            "8\n"
          ]
        }
      ]
    },
    {
      "cell_type": "code",
      "source": [
        "#sort ascending order\n",
        "n=[1,99,77,66,1087,4,10,1]\n",
        "n.sort()\n",
        "print(n)"
      ],
      "metadata": {
        "colab": {
          "base_uri": "https://localhost:8080/"
        },
        "id": "xHG5q1YSLtxJ",
        "outputId": "dc7a9644-1704-449e-bca5-6afec2e468b8"
      },
      "execution_count": null,
      "outputs": [
        {
          "output_type": "stream",
          "name": "stdout",
          "text": [
            "[1, 1, 4, 10, 66, 77, 99, 1087]\n"
          ]
        }
      ]
    },
    {
      "cell_type": "code",
      "source": [
        "#delete list elements\n",
        "a=[1, 2, 3, 4, 5, 6, 7]\n",
        "#del\n"
      ],
      "metadata": {
        "id": "jL9uP5ftMtuk"
      },
      "execution_count": null,
      "outputs": []
    }
  ]
}