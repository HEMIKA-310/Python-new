{
  "cells": [
    {
      "cell_type": "markdown",
      "metadata": {
        "id": "view-in-github",
        "colab_type": "text"
      },
      "source": [
        "<a href=\"https://colab.research.google.com/github/HEMIKA-310/Python-practice/blob/Module-2/qb_programs.ipynb\" target=\"_parent\"><img src=\"https://colab.research.google.com/assets/colab-badge.svg\" alt=\"Open In Colab\"/></a>"
      ]
    },
    {
      "cell_type": "code",
      "execution_count": null,
      "metadata": {
        "id": "MfsiTGqzazCJ",
        "colab": {
          "base_uri": "https://localhost:8080/"
        },
        "outputId": "1f749170-c3ef-461e-c52a-93dc3dc07a52"
      },
      "outputs": [
        {
          "output_type": "stream",
          "name": "stdout",
          "text": [
            "Enter lowest number: 25\n",
            "Enter greatest number:  35\n",
            "29\n",
            "31\n"
          ]
        }
      ],
      "source": [
        "#1write a program to print prime numbers in given range using functions.                                   Range (25,30)\n",
        "def prime(a,b):\n",
        "  for i in range(a,b+1):\n",
        "    k=0\n",
        "    for j in range(2,i):\n",
        "      if  i%j==0:\n",
        "        k+=1\n",
        "    if k==0:\n",
        "      print(i)\n",
        "n1=int(input(\"Enter lowest number: \"))\n",
        "n2=int(input(\"Enter greatest number:  \"))    \n",
        "prime(n1,n2)"
      ]
    },
    {
      "cell_type": "code",
      "execution_count": null,
      "metadata": {
        "id": "okkPFn8rbE2J",
        "colab": {
          "base_uri": "https://localhost:8080/"
        },
        "outputId": "ff62a0cd-9aea-4ad9-9c30-b079bbdd57df"
      },
      "outputs": [
        {
          "output_type": "stream",
          "name": "stdout",
          "text": [
            "Enter an integer corresponding to months of the year: 7\n",
            "31 days.\n",
            "Enter an integer corresponding to months of the year: 6\n",
            "30 days.\n",
            "Enter an integer corresponding to months of the year: 2\n",
            "28 or 29 days.\n"
          ]
        }
      ],
      "source": [
        "#2write a program to read any month in integer and display the number of days for that month               1-31\n",
        "def num(n):\n",
        " n=int(input(\"Enter an integer corresponding to months of the year: \"))\n",
        " if (n==1 or n==3 or n==5 or n==7 or n==8 or n==10 or n==12):\n",
        "  print(\"31 days.\")\n",
        " elif(n==4 or n==6 or n==9 or n==11):\n",
        "  print(\"30 days.\")\n",
        " elif(n==2):\n",
        "  print(\"28 or 29 days.\")\n",
        " else:\n",
        "  print(\"Enter integer from 1 to 12.\")\n",
        "num(n)\n",
        "num(n)\n",
        "num(n)"
      ]
    },
    {
      "cell_type": "code",
      "source": [
        "#2write a program to read any month in integer and display the number of days for that month              \n",
        "a=int(input('Enter a number: '))\n",
        "b=[4,6,9,11]\n",
        "if a==2:\n",
        "  print(\"28\")\n",
        "elif a in b:\n",
        "  print(\"30\")\n",
        "elif a>=13 or a<=1:\n",
        "  print(\"Not valid\")\n",
        "else:\n",
        "  print(\"31\")"
      ],
      "metadata": {
        "colab": {
          "base_uri": "https://localhost:8080/"
        },
        "id": "DrcaXH5Nmh8e",
        "outputId": "9ec3678b-777d-4718-bcdb-77036946fe02"
      },
      "execution_count": null,
      "outputs": [
        {
          "output_type": "stream",
          "name": "stdout",
          "text": [
            "Enter a number: 7\n",
            "31\n"
          ]
        }
      ]
    },
    {
      "cell_type": "code",
      "execution_count": null,
      "metadata": {
        "id": "0HV-OB6HbFIB",
        "colab": {
          "base_uri": "https://localhost:8080/"
        },
        "outputId": "38ef41a7-aa3d-4a99-9136-d3b91dd31ef7"
      },
      "outputs": [
        {
          "output_type": "stream",
          "name": "stdout",
          "text": [
            "Enter a string of words: This is a python class\n",
            "This is python "
          ]
        }
      ],
      "source": [
        "#3write a python program to print even length words in a string                                            My name iS xyz  My name is\n",
        "a= input(\"Enter a string of words: \")\n",
        "b=a.split()\n",
        "for x in b:\n",
        "  if len(x)%2==0:\n",
        "    print(x ,end=\" \")\n",
        "\n",
        "\n"
      ]
    },
    {
      "cell_type": "code",
      "source": [
        "#6write a python program to capitalize the first and last letter of each word \n",
        "a=input(\"Enter a string: \")\n",
        "b=a.split(' ')\n",
        "s=' '\n",
        "for i in b:\n",
        "  x=i.capitalize()\n",
        "  y=i[-1].capitalize()\n",
        "  s=x[0:-1]+y\n",
        "  print(s,end=\" \")"
      ],
      "metadata": {
        "colab": {
          "base_uri": "https://localhost:8080/"
        },
        "id": "JzZ1LIWquUK8",
        "outputId": "5f6b707b-e09e-4ab8-dd17-c7f1f930faa4"
      },
      "execution_count": null,
      "outputs": [
        {
          "output_type": "stream",
          "name": "stdout",
          "text": [
            "Enter a string: my name is xyz\n",
            "MY NamE IS XyZ "
          ]
        }
      ]
    },
    {
      "cell_type": "code",
      "execution_count": null,
      "metadata": {
        "colab": {
          "base_uri": "https://localhost:8080/"
        },
        "id": "LBGfQXhsb5NP",
        "outputId": "d7a2730c-9bb5-4d42-ddf5-f0ef61535a9c"
      },
      "outputs": [
        {
          "output_type": "stream",
          "name": "stdout",
          "text": [
            "Enter a sentence my name is hemika\n",
            "My Name Is Hemika\n"
          ]
        }
      ],
      "source": [
        "#4write a program to read a string from user. Display first character of each word with capital letter     hello world  Hello World\n",
        "a = input(\"Enter a sentence \")\n",
        "res=a.title()\n",
        "print(res)"
      ]
    },
    {
      "cell_type": "code",
      "execution_count": null,
      "metadata": {
        "id": "Yv5FiwYXccc_",
        "colab": {
          "base_uri": "https://localhost:8080/"
        },
        "outputId": "5de3102e-bec3-4be5-a47d-832f4c8b55cb"
      },
      "outputs": [
        {
          "output_type": "stream",
          "name": "stdout",
          "text": [
            "Enter a list of integers: [11,66,95]\n",
            " 116695\n"
          ]
        }
      ],
      "source": [
        "#5write a python program to covert a list of multiple integer into single integer\n",
        "a=eval(input(\"Enter a list of integers: \"))\n",
        "b=\" \"\n",
        "for i in a:\n",
        "  b += str(i)\n",
        "print(b)\n"
      ]
    },
    {
      "cell_type": "code",
      "source": [
        "#7write a python program to find power of number using recursion and without recursion     n=2 p=3 res=8\n",
        "#without recursion\n",
        "import math\n",
        "base=int(input(\"Enter base: \"))\n",
        "exp=int(input(\"Enter exponent: \"))\n",
        "res=pow(base,exp)\n",
        "print(res)\n",
        "#recursion\n",
        "def power(base,exp):\n",
        "    if(exp==1):\n",
        "        return(base)\n",
        "    if(exp!=1):\n",
        "        return(base*power(base,exp-1))\n",
        "base=int(input(\"Enter base: \"))\n",
        "exp=int(input(\"Enter exponential value: \"))\n",
        "print(\"Result:\",power(base,exp))\n"
      ],
      "metadata": {
        "id": "tEOh1NGXJwC6",
        "colab": {
          "base_uri": "https://localhost:8080/"
        },
        "outputId": "f3e8efe3-5a22-4666-fa23-4848921d42d1"
      },
      "execution_count": null,
      "outputs": [
        {
          "output_type": "stream",
          "name": "stdout",
          "text": [
            "Enter base: 2\n",
            "Enter exponent: 3\n",
            "8\n",
            "Enter base: 2\n",
            "Enter exponential value: 3\n",
            "Result: 8\n"
          ]
        }
      ]
    },
    {
      "cell_type": "code",
      "source": [
        "#8write a program to sort tuples by total digits    list=[(3,4,6,723),(1,2),(134,234,34)]  op=[(1,2),(3,4,6,723),(134,234,34)] \n",
        "list=[(3,4,6,723),(1,2),(134,234,34)]\n",
        "list.sort()\n",
        "print(list)"
      ],
      "metadata": {
        "id": "JIIYebaDKAF8",
        "colab": {
          "base_uri": "https://localhost:8080/"
        },
        "outputId": "06047093-7782-4141-cc58-198a7c2b5d79"
      },
      "execution_count": null,
      "outputs": [
        {
          "output_type": "stream",
          "name": "stdout",
          "text": [
            "[(1, 2), (3, 4, 6, 723), (134, 234, 34)]\n"
          ]
        }
      ]
    },
    {
      "cell_type": "code",
      "source": [
        "#9Take 5 subject marks from the user and display the grade of the student \n",
        "'''if avg=90-100 O grade\n",
        "       80-89  A+\n",
        "       70-79  A\n",
        "       60-69  B\n",
        "       50-59  B+\n",
        "       40-49  C\n",
        "       <40    FAIL'''\n",
        "m1=float(input(\"Enter subject 1 marks (for 100): \"))\n",
        "m2=float(input(\"Enter subject 2 marks (for 100): \"))\n",
        "m3=float(input(\"Enter subject 3 marks (for 100): \"))\n",
        "m4=float(input(\"Enter subject 4 marks (for 100): \"))\n",
        "m5=float(input(\"Enter subject 5 marks (for 100): \"))\n",
        "total=(m1+m2+m3+m4+m5)\n",
        "print(total)\n",
        "avg=total/5\n",
        "print(avg)\n",
        "if avg>=90 and avg<=100:\n",
        "  print(\"O Grade\")\n",
        "elif avg>=80 and avg<=89:\n",
        "  print(\"A+ Grade\")\n",
        "elif avg>=70 and avg<=79:\n",
        "  print(\"A Grade\")\n",
        "elif avg>=60 and avg<=69:\n",
        "  print(\"B Grade\")\n",
        "elif avg>=50 and avg<=59:\n",
        "  print(\"B+ Grade\")\n",
        "elif avg>=40 and avg<=49:\n",
        "  print(\"C Grade\")\n",
        "elif avg<40:\n",
        "  print(\"F-Fail\")"
      ],
      "metadata": {
        "id": "886N4eOzKtSc",
        "colab": {
          "base_uri": "https://localhost:8080/"
        },
        "outputId": "8a3f5b70-1db3-450c-93d7-b6db95563c58"
      },
      "execution_count": null,
      "outputs": [
        {
          "output_type": "stream",
          "name": "stdout",
          "text": [
            "Enter subject 1 marks (for 100): 89\n",
            "Enter subject 2 marks (for 100): 90\n",
            "Enter subject 3 marks (for 100): 92\n",
            "Enter subject 4 marks (for 100): 95\n",
            "Enter subject 5 marks (for 100): 99\n",
            "465.0\n",
            "93.0\n",
            "O Grade\n"
          ]
        }
      ]
    },
    {
      "cell_type": "code",
      "source": [
        "#10 write a python program that prints 1 if all the three given numbers are in ascending order else print 0\n",
        "n1=int(input(\"enter n1: \"))\n",
        "n2=int(input(\"enter n2: \"))\n",
        "n3=int(input(\"enter n3: \"))\n",
        "if n1<n2<n3:\n",
        "  print(\"1\")\n",
        "else:\n",
        "  print(\"0\")"
      ],
      "metadata": {
        "id": "wnBYNDPlLcvq"
      },
      "execution_count": null,
      "outputs": []
    },
    {
      "cell_type": "code",
      "source": [
        "#11 Check given number is perfect number or not                                  6,28\n",
        "def perfect(n):                                                            \n",
        " num=int(input(\"Enter a number : \"))\n",
        " n1=num\n",
        " sum=0\n",
        " for i in range (1,num):\n",
        "   if num%i==0:\n",
        "     sum=sum+i\n",
        " if sum==n1:\n",
        "    print(\"yes\")\n",
        " else :\n",
        "    print(\"no\")\n",
        "perfect(num)\n",
        "perfect(num)"
      ],
      "metadata": {
        "colab": {
          "base_uri": "https://localhost:8080/"
        },
        "id": "hV4_SeViL0ue",
        "outputId": "8d7d2945-5609-40f7-e561-3ab441682e2a"
      },
      "execution_count": null,
      "outputs": [
        {
          "output_type": "stream",
          "name": "stdout",
          "text": [
            "Enter a number : 28\n",
            "yes\n",
            "Enter a number : 3\n",
            "no\n"
          ]
        }
      ]
    },
    {
      "cell_type": "code",
      "source": [
        "#12 Check whether input is prime\n",
        "num = int(input(\"Enter a number: \"))\n",
        "if num > 1:\n",
        "   for i in range(2,num):\n",
        "       if (num % i) == 0:\n",
        "           print(\"not a prime number\")\n",
        "           break\n",
        "   else:\n",
        "       print(\"prime number\")\n",
        "else:\n",
        "   print(num,\"is not a prime number\")\n"
      ],
      "metadata": {
        "id": "3syU1yN3L60A",
        "colab": {
          "base_uri": "https://localhost:8080/"
        },
        "outputId": "2e6338a1-0f6a-4466-d9ba-84646ab88c5e"
      },
      "execution_count": null,
      "outputs": [
        {
          "output_type": "stream",
          "name": "stdout",
          "text": [
            "Enter a number: 7\n",
            "prime number\n"
          ]
        }
      ]
    },
    {
      "cell_type": "code",
      "source": [
        "#13 check given string is palindrome or not\n",
        "def isPalindrome(s):\n",
        "\treturn s == s[::-1]\n",
        "s = input(\"Enter a string \")\n",
        "ans = isPalindrome(s)\n",
        "if ans:\n",
        "\tprint(\"Yes\")\n",
        "else:\n",
        "\tprint(\"No\")\n"
      ],
      "metadata": {
        "id": "HB3AQ7v8MNCt",
        "colab": {
          "base_uri": "https://localhost:8080/"
        },
        "outputId": "d562fc4d-a16d-46ba-86b9-c549fb98923d"
      },
      "execution_count": null,
      "outputs": [
        {
          "output_type": "stream",
          "name": "stdout",
          "text": [
            "Enter a string abcba\n",
            "Yes\n"
          ]
        }
      ]
    },
    {
      "cell_type": "code",
      "source": [
        "#14 find ncr\n",
        "def fact(x):\n",
        "  f=1\n",
        "  if x==0:\n",
        "    x=1\n",
        "  for i in range(1,x+1):\n",
        "    f=f*i\n",
        "  return f\n",
        "n=int(input(\"n=\"))\n",
        "r=int(input('r='))\n",
        "k=fact(n)\n",
        "l=fact(r)\n",
        "m=fact(n-r)\n",
        "c=k/(l*m)\n",
        "print('nCr=',c)\n",
        "    "
      ],
      "metadata": {
        "id": "syKg9P7lMRHz",
        "colab": {
          "base_uri": "https://localhost:8080/"
        },
        "outputId": "7b4a075b-050d-434f-f1a3-eda63abd0323"
      },
      "execution_count": null,
      "outputs": [
        {
          "output_type": "stream",
          "name": "stdout",
          "text": [
            "n=5\n",
            "r=2\n",
            "nCr= 10.0\n"
          ]
        }
      ]
    },
    {
      "cell_type": "code",
      "source": [
        "#15 find gcd of two numbers with and without recursion     \n",
        "#with recursion\n",
        "def gcd(x,y):\n",
        "  if (x==0):\n",
        "    return y\n",
        "  elif (y==0):\n",
        "    return x\n",
        "  else:\n",
        "    return(gcd(y,x%y))\n",
        "a=int(input())\n",
        "b=int(input())\n",
        "print(gcd(a,b)) \n",
        "#without recursion\n",
        "n1=int(input(\"Enter num1: \"))\n",
        "n2=int(input(\"Enter num2: \"))\n",
        "if (n1>n2):\n",
        "  small = n2\n",
        "else:\n",
        "  small = n1\n",
        "for i in range(1, small+1):\n",
        "    if((n1 % i == 0) and (n2 % i == 0)):\n",
        "     result = i\n",
        "print(result)                                                         "
      ],
      "metadata": {
        "id": "u8vbIBKLMjIu",
        "colab": {
          "base_uri": "https://localhost:8080/"
        },
        "outputId": "940fe258-61b7-4469-82f6-0343d5d1e11a"
      },
      "execution_count": null,
      "outputs": [
        {
          "output_type": "stream",
          "name": "stdout",
          "text": [
            "21\n",
            "56\n",
            "7\n",
            "Enter num1: 21\n",
            "Enter num2: 56\n",
            "7\n"
          ]
        }
      ]
    },
    {
      "cell_type": "code",
      "source": [
        "#16 print sum of even digits in a given number                                                                          1243=>6\n",
        "n=int(input(\"Enter number: \"))\n",
        "sum=0\n",
        "while(n>0):\n",
        "  rem=n%10\n",
        "  if(rem%2==0):\n",
        "    sum=sum+rem\n",
        "  n=n//10\n",
        "print(sum)"
      ],
      "metadata": {
        "id": "DxO1_EFFMlZO",
        "colab": {
          "base_uri": "https://localhost:8080/"
        },
        "outputId": "6542053c-4eca-468a-c638-fbac47c562c8"
      },
      "execution_count": null,
      "outputs": [
        {
          "output_type": "stream",
          "name": "stdout",
          "text": [
            "Enter number: 1825\n",
            "10\n"
          ]
        }
      ]
    },
    {
      "cell_type": "code",
      "source": [
        "#17 calculate the product of the digits of a number\n",
        "n=int(input(\"Enter number: \"))\n",
        "pdt=1\n",
        "while(n>0):\n",
        "  r=n%10\n",
        "  pdt=pdt*r\n",
        "  n=n//10\n",
        "print(pdt)"
      ],
      "metadata": {
        "id": "96Q-4SWOM--r",
        "colab": {
          "base_uri": "https://localhost:8080/"
        },
        "outputId": "5de9b5bc-4f8b-49d0-c028-d3ef19be7119"
      },
      "execution_count": null,
      "outputs": [
        {
          "output_type": "stream",
          "name": "stdout",
          "text": [
            "Enter number: 1825\n",
            "80\n"
          ]
        }
      ]
    },
    {
      "cell_type": "code",
      "source": [
        "#18 to calculate the sum of squares of digits in a number given by user          123=>14\n",
        "import math\n",
        "n= int(input(\"Enter number: \"))\n",
        "res=0\n",
        "while(n>0):\n",
        "  r=n%10\n",
        "  res=res+pow(r,2)\n",
        "  n=n//10\n",
        "print(res)"
      ],
      "metadata": {
        "id": "pM6hpaOmNM0d",
        "colab": {
          "base_uri": "https://localhost:8080/"
        },
        "outputId": "44b29001-4f10-4ddb-f090-e36f20ba6090"
      },
      "execution_count": null,
      "outputs": [
        {
          "output_type": "stream",
          "name": "stdout",
          "text": [
            "Enter number: 123\n",
            "14\n"
          ]
        }
      ]
    },
    {
      "cell_type": "code",
      "source": [
        "#19 given a string s='abcdefcba'. How many times ith character from front equals to ith character from back               res=3\n",
        "#print(CountFrontBackMatches)=3\n"
      ],
      "metadata": {
        "id": "T8s_SOWRNUK-"
      },
      "execution_count": null,
      "outputs": []
    },
    {
      "cell_type": "code",
      "source": [
        "#20 given an integer n,return a lit containing 1223334444.... and finaly n repeated n times. you may asssume n>=0\n",
        "#print(RepeatNumTimes(4))=[1,2,2,3,3,3,4,4,4,4]\n",
        "n = int(input(\"Enter number: \"))\n",
        "\n",
        "for i in range(1,n+1):\n",
        "    for j in range(1, i+1):\n",
        "        print(i,end=\",\")\n"
      ],
      "metadata": {
        "id": "DxXE1enzOH8P",
        "colab": {
          "base_uri": "https://localhost:8080/"
        },
        "outputId": "1e5e035e-4f6c-441b-b9d9-0fd8b579f6ea"
      },
      "execution_count": null,
      "outputs": [
        {
          "output_type": "stream",
          "name": "stdout",
          "text": [
            "Enter number: 9\n",
            "1,2,2,3,3,3,4,4,4,4,5,5,5,5,5,6,6,6,6,6,6,7,7,7,7,7,7,7,8,8,8,8,8,8,8,8,9,9,9,9,9,9,9,9,9,"
          ]
        }
      ]
    },
    {
      "cell_type": "code",
      "source": [
        "#21 print number of vowels and consonants in a given string    Gitam University 6,10\n",
        "word=input(\"Enter a string: \")\n",
        "v=0\n",
        "c=0\n",
        "for i in word :\n",
        "  if i=='a' or i=='e' or i=='i' or i=='o' or i=='u' or i=='A' or i=='E' or i=='I' or i=='O' or i=='U': \n",
        "   v=v+1\n",
        "  else:\n",
        "   c=c+1\n",
        "print(v)\n",
        "print(c)   \n"
      ],
      "metadata": {
        "id": "XMFVd-04PA8z",
        "colab": {
          "base_uri": "https://localhost:8080/"
        },
        "outputId": "56104f67-f657-4ab5-ae70-797564756ed6"
      },
      "execution_count": null,
      "outputs": [
        {
          "output_type": "stream",
          "name": "stdout",
          "text": [
            "Enter a string: Gitam University\n",
            "6\n",
            "10\n"
          ]
        }
      ]
    },
    {
      "cell_type": "code",
      "source": [
        "#22 given 2 integers A and B . If A<B, print all numbers from A to B in ascending order else(A>=B) in descending order\n",
        "A=int(input(\"Enter A: \"))\n",
        "B=int(input(\"Enter B: \"))\n",
        "if A<B:\n",
        "  for i in range(A,B+1):\n",
        "    print(i)\n",
        "else:\n",
        "  for i in range(A,B-1,-1):\n",
        "    print(i)"
      ],
      "metadata": {
        "id": "oGDaZgElPNPD",
        "colab": {
          "base_uri": "https://localhost:8080/"
        },
        "outputId": "3f2b1019-03b1-403f-c1ab-b3f8fd0f0d71"
      },
      "execution_count": null,
      "outputs": [
        {
          "output_type": "stream",
          "name": "stdout",
          "text": [
            "Enter A: 7\n",
            "Enter B: 3\n",
            "7\n",
            "6\n",
            "5\n",
            "4\n",
            "3\n"
          ]
        }
      ]
    },
    {
      "cell_type": "code",
      "source": [
        "#23 Program to print biggest value among 3 numbers.\n",
        "n1=int(input(\"Enter num1: \"))\n",
        "n2=int(input(\"Enter num2: \"))\n",
        "n3=int(input(\"Enter num3: \"))\n",
        "if n1>=n2 and n1>=n3:\n",
        "  print(n1)\n",
        "elif n2>=n1 and n2>=n3:\n",
        "  print(n2)\n",
        "else:\n",
        "  print(n3)\n",
        "\n"
      ],
      "metadata": {
        "id": "DmYSUoemP4E8",
        "colab": {
          "base_uri": "https://localhost:8080/"
        },
        "outputId": "a35bc63e-2a75-4261-b0cf-06d0ced34e98"
      },
      "execution_count": null,
      "outputs": [
        {
          "output_type": "stream",
          "name": "stdout",
          "text": [
            "Enter num1: 1\n",
            "Enter num2: 1\n",
            "Enter num3: 9\n",
            "9\n"
          ]
        }
      ]
    },
    {
      "cell_type": "code",
      "source": [
        "#24 To count the number of strings where the string length is 2 or more and find the first and last characters are same \n",
        "#from a given list of string \n",
        "#print(res)=>['aba','abc','1221',\"aha\"]=3\n",
        "def match(words):\n",
        " count=0\n",
        " for word in words:\n",
        "    if len(word)>=2 and word [0] == word[-1]:\n",
        "      count +=1\n",
        " return count\n",
        "print(match(['abc', 'aha', 'aba', '1221']))\n"
      ],
      "metadata": {
        "id": "km0EUnJ4P-la",
        "colab": {
          "base_uri": "https://localhost:8080/"
        },
        "outputId": "3a642f22-0b96-4074-c52c-24d78c15111f"
      },
      "execution_count": null,
      "outputs": [
        {
          "output_type": "stream",
          "name": "stdout",
          "text": [
            "3\n"
          ]
        }
      ]
    },
    {
      "cell_type": "code",
      "source": [
        "#25 There is a walking track of 3 km (roundtrip means 3+3=6km).\n",
        "'''take input from user no. of days, followed by no of roundtrips in 1 day \n",
        "find total distance he covers in m\n",
        "if round trip:\n",
        "<40000m need to walk more\n",
        ">=40000m you done a great job!\n",
        "'''\n",
        "d=int(input(\"Enter number of days: \"))\n",
        "t=int(input(\"Enter number of roundtrips per day: \"))\n",
        "dist=d*t*6000\n",
        "print(dist)\n",
        "if dist<40000:\n",
        "  print(\"need to walk more.\")\n",
        "else:\n",
        "  print(\"Great job!\")\n"
      ],
      "metadata": {
        "colab": {
          "base_uri": "https://localhost:8080/"
        },
        "id": "s_AHcNyuRDon",
        "outputId": "6f81b108-3ce0-4391-fda8-485bb6058319"
      },
      "execution_count": null,
      "outputs": [
        {
          "output_type": "stream",
          "name": "stdout",
          "text": [
            "Enter number of days: 3\n",
            "Enter number of roundtrips per day: 1\n",
            "18000\n",
            "need to walk more.\n"
          ]
        }
      ]
    },
    {
      "cell_type": "code",
      "source": [
        "#26 given list of students names in L and a character, display the names of the students whose first letter is the given character\n",
        "#Print student_details([]\n",
        "names = ['Anu','Hemika','Harika','Hema','heena']\n",
        "first_letters = ['H']\n",
        "output_names = [name for name in names if (name[0] in first_letters)]\n",
        "output_names"
      ],
      "metadata": {
        "id": "hXml7n6oRDyu",
        "colab": {
          "base_uri": "https://localhost:8080/"
        },
        "outputId": "2f69e728-16d3-4a5f-85b9-c8387316d1b2"
      },
      "execution_count": null,
      "outputs": [
        {
          "output_type": "execute_result",
          "data": {
            "text/plain": [
              "['Hemika', 'Harika', 'Hema']"
            ]
          },
          "metadata": {},
          "execution_count": 57
        }
      ]
    },
    {
      "cell_type": "code",
      "source": [
        "#27 Give a list of city names whose length is greater than a given length \n",
        "#str len =3\n",
        "#print(cityNmes(['Vizag','Agra','Hyderabad','Delhi']))=\n",
        "test_list = [\"Gfg\", 'is', \"Best\", 'for', 'CS', 'Everything']\n",
        "K = 3\n",
        "res = ''\n",
        "for ele in test_list:\n",
        "    if len(ele) >3 :\n",
        "        res += ele\n",
        "print(res ,end=\",\")\n"
      ],
      "metadata": {
        "id": "uvztH3TMRD4u",
        "colab": {
          "base_uri": "https://localhost:8080/"
        },
        "outputId": "b7d74e55-9770-493d-d52e-215193e5d476"
      },
      "execution_count": null,
      "outputs": [
        {
          "output_type": "stream",
          "name": "stdout",
          "text": [
            "BestEverything,"
          ]
        }
      ]
    },
    {
      "cell_type": "code",
      "source": [
        "#28To find nth value in fibonacci series\n",
        "def fib(n):\n",
        "  if n<=0:\n",
        "    print(\"Invalid\")\n",
        "  elif n==1:\n",
        "    return 0\n",
        "  elif n==2:\n",
        "    return 1\n",
        "  else:\n",
        "    return fib(n-1)+fib(n-2)\n",
        "print(fib(9))\n"
      ],
      "metadata": {
        "colab": {
          "base_uri": "https://localhost:8080/"
        },
        "id": "pdfSQ09a7CYl",
        "outputId": "213f90cd-aaec-4adc-83ac-1add2ae70f3b"
      },
      "execution_count": null,
      "outputs": [
        {
          "output_type": "stream",
          "name": "stdout",
          "text": [
            "21\n"
          ]
        }
      ]
    }
  ],
  "metadata": {
    "colab": {
      "name": "qb_programs.ipynb",
      "provenance": [],
      "collapsed_sections": [],
      "authorship_tag": "ABX9TyOptZRXAwWTWbVKUFpg6aEE",
      "include_colab_link": true
    },
    "kernelspec": {
      "display_name": "Python 3",
      "name": "python3"
    },
    "language_info": {
      "name": "python"
    }
  },
  "nbformat": 4,
  "nbformat_minor": 0
}