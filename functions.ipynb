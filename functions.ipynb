{
  "nbformat": 4,
  "nbformat_minor": 0,
  "metadata": {
    "colab": {
      "name": "functions.ipynb",
      "provenance": [],
      "authorship_tag": "ABX9TyOzfKemJCAGKMiFVhFtTe4N",
      "include_colab_link": true
    },
    "kernelspec": {
      "name": "python3",
      "display_name": "Python 3"
    },
    "language_info": {
      "name": "python"
    }
  },
  "cells": [
    {
      "cell_type": "markdown",
      "metadata": {
        "id": "view-in-github",
        "colab_type": "text"
      },
      "source": [
        "<a href=\"https://colab.research.google.com/github/HEMIKA-310/Python-new/blob/Module-2/functions.ipynb\" target=\"_parent\"><img src=\"https://colab.research.google.com/assets/colab-badge.svg\" alt=\"Open In Colab\"/></a>"
      ]
    },
    {
      "cell_type": "code",
      "execution_count": null,
      "metadata": {
        "colab": {
          "base_uri": "https://localhost:8080/"
        },
        "id": "tzAg_SzqWNKe",
        "outputId": "f5847e5f-c44f-4b06-a94c-637c7d001903"
      },
      "outputs": [
        {
          "output_type": "stream",
          "name": "stdout",
          "text": [
            " 5\n",
            "15\n"
          ]
        }
      ],
      "source": [
        "\n",
        "def sum(n):\n",
        "   if n <= 1:\n",
        "       return n\n",
        "   else:\n",
        "       return n + sum(n-1)\n",
        "num = int(input(\" \"))\n",
        "if num>= 0:\n",
        "   print(sum(num))\n"
      ]
    },
    {
      "cell_type": "code",
      "source": [
        "def count(s):\n",
        "    d={\"Upper\":0, \"Lower\":0}\n",
        "    for c in s:\n",
        "        if c.isupper():\n",
        "           d[\"Upper\"]+=1\n",
        "        elif c.islower():\n",
        "           d[\"Lower\"]+=1\n",
        "        else:\n",
        "           pass\n",
        "    print (\"No. of Upper case characters:\",d[\"Upper\"])\n",
        "    print (\"No. of Lower case Characters:\",d[\"Lower\"])\n",
        "a=input(\"\")\n",
        "count(a)"
      ],
      "metadata": {
        "colab": {
          "base_uri": "https://localhost:8080/"
        },
        "id": "oio34t82XeJa",
        "outputId": "21161d24-a080-4316-8d0b-3d362fc63673"
      },
      "execution_count": null,
      "outputs": [
        {
          "output_type": "stream",
          "name": "stdout",
          "text": [
            "The quick Brown Fox\n",
            "No. of upper case characters: 3\n",
            "No. of lower case characters: 13\n"
          ]
        }
      ]
    },
    {
      "cell_type": "code",
      "source": [
        "a=input(\"\")\n",
        "split=a.split()\n",
        "for x in split:\n",
        "  if x==\"you\" or x==\"for\":\n",
        "    b=a.replace('you','U')\n",
        "    c=b.replace('for','4')\n",
        "    print(c)\n",
        "  else:\n",
        "    print(a)"
      ],
      "metadata": {
        "id": "b8uRWq03Z3jt",
        "colab": {
          "base_uri": "https://localhost:8080/"
        },
        "outputId": "33c428d7-15c3-4f97-90e0-39d698305d71"
      },
      "execution_count": null,
      "outputs": [
        {
          "output_type": "stream",
          "name": "stdout",
          "text": [
            "tu\n",
            "tu\n"
          ]
        }
      ]
    },
    {
      "cell_type": "code",
      "source": [
        "a=input(\"\")\n",
        "if \"you\" or \"for\" in a:\n",
        "    b=a.replace('you','U')\n",
        "    c=b.replace('for','4')\n",
        "    print(c)\n",
        "else:\n",
        "    print(a)"
      ],
      "metadata": {
        "id": "aZ-Lpo3qcNZa"
      },
      "execution_count": null,
      "outputs": []
    }
  ]
}