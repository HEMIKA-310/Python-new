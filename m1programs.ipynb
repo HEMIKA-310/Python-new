{
  "nbformat": 4,
  "nbformat_minor": 0,
  "metadata": {
    "colab": {
      "name": "m1programs.ipynb",
      "provenance": [],
      "authorship_tag": "ABX9TyNJlagKQaTOAlLG9opy8wDs",
      "include_colab_link": true
    },
    "kernelspec": {
      "name": "python3",
      "display_name": "Python 3"
    },
    "language_info": {
      "name": "python"
    }
  },
  "cells": [
    {
      "cell_type": "markdown",
      "metadata": {
        "id": "view-in-github",
        "colab_type": "text"
      },
      "source": [
        "<a href=\"https://colab.research.google.com/github/HEMIKA-310/Python-new/blob/Module-1/m1programs.ipynb\" target=\"_parent\"><img src=\"https://colab.research.google.com/assets/colab-badge.svg\" alt=\"Open In Colab\"/></a>"
      ]
    },
    {
      "cell_type": "code",
      "execution_count": null,
      "metadata": {
        "colab": {
          "base_uri": "https://localhost:8080/"
        },
        "id": "MBNPtzWDNrZY",
        "outputId": "5f5a2037-68da-4c15-eee1-f617b16176bd"
      },
      "outputs": [
        {
          "output_type": "stream",
          "name": "stdout",
          "text": [
            "Enter value: 34\n",
            "34\n"
          ]
        }
      ],
      "source": [
        "#1Accept input from user and store it in variable and print the value\n",
        "a=input(\"Enter value: \")\n",
        "print(a)"
      ]
    },
    {
      "cell_type": "code",
      "source": [
        "#2Use of print statements and use of (.format )for printing different data types.\n",
        "a=\"hemika\"\n",
        "b=10\n",
        "c=3.9\n",
        "d=bool(a)\n",
        "e=10+2j\n",
        "result=\"string:{},integer:{},float:{},boolean:{},complex:{}\"\n",
        "print(result.format(a,b,c,d,e))\n",
        "\n"
      ],
      "metadata": {
        "colab": {
          "base_uri": "https://localhost:8080/"
        },
        "id": "MprytFBFN0_m",
        "outputId": "e3ceb775-a3c2-433a-a91e-7b9508b87ab5"
      },
      "execution_count": null,
      "outputs": [
        {
          "output_type": "stream",
          "name": "stdout",
          "text": [
            "string:hemika,integer:10,float:3.9,boolean:True,complex:(10+2j)\n"
          ]
        }
      ]
    },
    {
      "cell_type": "code",
      "source": [
        "#3Take 2 numbers as user input and add, multiply, divide, subtract, remainder and print\n",
        "#the output (Same operations on floating point input as well)\n",
        "a=float(input(\"Enter num1: \"))\n",
        "b=float(input(\"Enter num2: \"))\n",
        "add=a+b\n",
        "multiply=a*b\n",
        "subtract=a-b\n",
        "divide=a/b\n",
        "remainder=a%b\n",
        "result=\"add={};multiply={};subtract={};divide={};remainder={}\"\n",
        "print(result.format(add,multiply,subtract,divide,remainder))"
      ],
      "metadata": {
        "colab": {
          "base_uri": "https://localhost:8080/"
        },
        "id": "H9ACR8WVN1G5",
        "outputId": "34644c03-d91b-4c70-ddca-ab0b60e0d370"
      },
      "execution_count": null,
      "outputs": [
        {
          "output_type": "stream",
          "name": "stdout",
          "text": [
            "Enter num1: 10.5\n",
            "Enter num2: 5\n",
            "add=15.5;multiply=52.5;subtract=5.5;divide=2.1;remainder=0.5\n"
          ]
        }
      ]
    },
    {
      "cell_type": "code",
      "source": [
        "#4Conversion of one unit to another (such as hours to minutes, miles to km and etc)\n",
        "hr=float(input(\"Hours: \"))\n",
        "min=hr*60\n",
        "print(min)\n",
        "mile=float(input(\"Miles: \"))\n",
        "km=mile*1.609\n",
        "print(km)\n"
      ],
      "metadata": {
        "id": "uebxfM7BN3Np",
        "colab": {
          "base_uri": "https://localhost:8080/"
        },
        "outputId": "35932c0e-b456-4973-e4ff-baa057f50d9b"
      },
      "execution_count": null,
      "outputs": [
        {
          "output_type": "stream",
          "name": "stdout",
          "text": [
            "Hours: 3\n",
            "180.0\n",
            "Miles: 2\n",
            "3.218\n"
          ]
        }
      ]
    },
    {
      "cell_type": "code",
      "source": [
        "#5Usage of mathematical functions in python like math.ceil, floor, fabs, fmod, trunc, pow, sqrt etc\n",
        "import math\n",
        "n=float(input(\"number1: \"))\n",
        "n1=float(input(\"number2: \"))\n",
        "v1=math.ceil(n)\n",
        "print(v1)\n",
        "v2=math.floor(n)\n",
        "print(v2)\n",
        "v3=math.fabs(n)\n",
        "print(v3)\n",
        "v4=math.fmod(n,n1)\n",
        "print(v4)\n",
        "v5=math.trunc(n)\n",
        "print(v5)\n",
        "v6=math.pow(n,n1)\n",
        "print(v6)\n",
        "v7=math.sqrt(n)\n",
        "print(v7)\n",
        "\n",
        "\n",
        "\n"
      ],
      "metadata": {
        "id": "6obKSt5gN3VT",
        "colab": {
          "base_uri": "https://localhost:8080/"
        },
        "outputId": "479bd189-e155-45ee-c88d-2527d1667fbf"
      },
      "execution_count": null,
      "outputs": [
        {
          "output_type": "stream",
          "name": "stdout",
          "text": [
            "number1: 18.5\n",
            "number2: 2\n",
            "19\n",
            "18\n",
            "18.5\n",
            "0.5\n",
            "18\n",
            "342.25\n",
            "4.301162633521313\n"
          ]
        }
      ]
    },
    {
      "cell_type": "code",
      "source": [
        "#6Building a mathematical calculator that can perform operations according to user input. \n",
        "#Use decision making statements\n",
        "n1=float(input(\"enter num1: \"))\n",
        "n2=float(input(\"enter num2: \"))\n",
        "o=input(\"enter operand: \")\n",
        "if (o==\"+\"):\n",
        "  print(n1+n2)\n",
        "elif (o==\"-\"):\n",
        "  print(n1-n2)\n",
        "elif (o==\"*\"):\n",
        "  print(n1*n2)\n",
        "elif (o==\"/\"):\n",
        "  print(n1/n2)\n",
        "else:\n",
        "  print(\"Enter a valid operand!\")"
      ],
      "metadata": {
        "id": "8VbzWpkPN3cq",
        "colab": {
          "base_uri": "https://localhost:8080/"
        },
        "outputId": "c0af71ac-c22e-4056-e9c2-34ab9854d930"
      },
      "execution_count": null,
      "outputs": [
        {
          "output_type": "stream",
          "name": "stdout",
          "text": [
            "enter num1: 12\n",
            "enter num2: 13\n",
            "enter operand: /\n",
            "0.9230769230769231\n"
          ]
        }
      ]
    },
    {
      "cell_type": "code",
      "source": [
        "#7Accepting 5 different subject marks from user and displaying the grade of the student.\n",
        "m1=float(input(\"Enter subject 1 marks (for 100): \"))\n",
        "m2=float(input(\"Enter subject 2 marks (for 100): \"))\n",
        "m3=float(input(\"Enter subject 3 marks (for 100): \"))\n",
        "m4=float(input(\"Enter subject 4 marks (for 100): \"))\n",
        "m5=float(input(\"Enter subject 5 marks (for 100): \"))\n",
        "total=(m1+m2+m3+m4+m5)\n",
        "print(total)\n",
        "percentage=(total*100)/500\n",
        "print(percentage)\n",
        "if (percentage>90):\n",
        "  print(\"A+ Grade\")\n",
        "elif (percentage>80 and percentage<90):\n",
        "  print(\"A Grade\")\n",
        "elif (percentage>70 and percentage<80):\n",
        "  print(\"B Grade\")\n",
        "elif (percentage>60 and percentage<70):\n",
        "  print(\"C Grade\")\n",
        "elif (percentage>50 and percentage<60):\n",
        "  print(\"D Grade\")\n",
        "elif(percentage>40 and percentage<50):\n",
        "  print(\"P-Pass\")\n",
        "else :\n",
        "  print(\"F-Fail\")\n",
        "\n"
      ],
      "metadata": {
        "id": "OPrKw95yN3kx",
        "colab": {
          "base_uri": "https://localhost:8080/"
        },
        "outputId": "dd0cdd74-3c69-4f09-d9d2-1ec8f73cdda5"
      },
      "execution_count": null,
      "outputs": [
        {
          "output_type": "stream",
          "name": "stdout",
          "text": [
            "Enter subject 1 marks (for 100): 95\n",
            "Enter subject 2 marks (for 100): 97\n",
            "Enter subject 3 marks (for 100): 90\n",
            "Enter subject 4 marks (for 100): 89\n",
            "Enter subject 5 marks (for 100): 97\n",
            "468.0\n",
            "93.6\n",
            "A+ Grade\n"
          ]
        }
      ]
    },
    {
      "cell_type": "code",
      "source": [
        "#8Printing all even numbers, odd numbers, count of even numbers, count of odd numbers \n",
        "#within a given range\n",
        "n1=int(input(\"Enter the smallest number in the range: \"))\n",
        "n2=int(input(\"Enter the smallest number in the range: \"))\n",
        "even_count=0\n",
        "odd_count=0\n",
        "for i in range(n1,n2+1):\n",
        "  if((i%2)==0):\n",
        "    print(i)\n",
        "    even_count=even_count+1\n",
        "print(\"even_count= \",even_count)\n",
        "for i in range(n1,n2+1):\n",
        "  if((i%2)==1):\n",
        "    print(i)\n",
        "    odd_count=odd_count+1\n",
        "print(\"odd_count= \",odd_count)\n"
      ],
      "metadata": {
        "id": "pkmtN-kON3rN",
        "colab": {
          "base_uri": "https://localhost:8080/"
        },
        "outputId": "6d3b31f7-bd9a-46b9-ce1d-aa711196def0"
      },
      "execution_count": null,
      "outputs": [
        {
          "output_type": "stream",
          "name": "stdout",
          "text": [
            "Enter the smallest number in the range: 1\n",
            "Enter the smallest number in the range: 10\n",
            "2\n",
            "4\n",
            "6\n",
            "8\n",
            "10\n",
            "even_count=  5\n",
            "1\n",
            "3\n",
            "5\n",
            "7\n",
            "9\n",
            "odd_count=  5\n"
          ]
        }
      ]
    },
    {
      "cell_type": "code",
      "source": [
        "#9a) Compute the factorial of a given number. b) Compute GCD of two given \n",
        "#numbers. c) Generate Fibonacci series up to N numbers\n",
        "#factorial\n",
        "n = int(input(\"Enter a number: \"))\n",
        "factorial = 1\n",
        "if (n >= 1):\n",
        "   for i in range (1,n+1):\n",
        "      factorial = factorial * i\n",
        "print(\"Factorial of \",n , \" is : \",factorial)\n",
        "#HCF of two numbers\n",
        "n1=int(input(\"Enter num1: \"))\n",
        "n2=int(input(\"Enter num2: \"))\n",
        "if (n1>n2):\n",
        "  small = n2\n",
        "else:\n",
        "  small = n1\n",
        "for i in range(1, small+1):\n",
        "    if((n1 % i == 0) and (n2 % i == 0)):\n",
        "     result = i\n",
        "print(result)\n",
        "#Fibonacci series\n",
        "N=int(input(\"Enter N: \"))\n",
        "num1 = 0\n",
        "num2 = 1\n",
        "series = 0\n",
        "for i in range(N):\n",
        "    print(series, end=' ');\n",
        "    num1 = num2;\n",
        "    num2 = series;\n",
        "    series = num1 + num2;"
      ],
      "metadata": {
        "id": "KvJA4-P6N3xQ",
        "colab": {
          "base_uri": "https://localhost:8080/"
        },
        "outputId": "0955d3c8-abed-4cdf-8a62-02381bdc2607"
      },
      "execution_count": null,
      "outputs": [
        {
          "output_type": "stream",
          "name": "stdout",
          "text": [
            "Enter a number: 6\n",
            "Factorial of  6  is :  720\n",
            "Enter num1: 21\n",
            "Enter num2: 56\n",
            "7\n",
            "Enter N: 12\n",
            "0 1 1 2 3 5 8 13 21 34 55 89 "
          ]
        }
      ]
    },
    {
      "cell_type": "code",
      "source": [
        "#10Check whether the given input is a) palindrome b) strong c) perfect\n",
        "#palindrome\n",
        "n=int(input(\"Enter a number: \"))\n",
        "num=n\n",
        "n1=n\n",
        "rev=0\n",
        "while(n>0):\n",
        "    dig=n%10\n",
        "    rev=rev*10+dig\n",
        "    n=n//10\n",
        "print(rev)\n",
        "if(n1==rev):\n",
        "    print(\"The number is a palindrome!\")\n",
        "else:\n",
        "    print(\"The number is not a palindrome!\")\n",
        "#strong\n",
        "sum=0\n",
        "while(num):  \n",
        "    i=1  \n",
        "    fact=1  \n",
        "    rem=num%10  \n",
        "    while(i<=rem):  \n",
        "        fact=fact*i\n",
        "        i=i+1  \n",
        "    sum=sum+fact  \n",
        "    num=num//10  \n",
        "print(sum)\n",
        "if(sum==n1):\n",
        "    print(\"The number is a strong number\")\n",
        "else:\n",
        "    print(\"The number is not a strong number\")\n",
        "#perfect\n",
        "sum=0\n",
        "for i in range(1,n1):  \n",
        "    if (n1%i==0):  \n",
        "        sum=sum+i  \n",
        "print(sum)\n",
        "if(sum==n1):  \n",
        "    print(\"The number is a perfect number\")  \n",
        "else:  \n",
        "    print(\"The number is not a perfect number\")  \n"
      ],
      "metadata": {
        "id": "XiyT2BJiN338",
        "colab": {
          "base_uri": "https://localhost:8080/"
        },
        "outputId": "1daa6dd2-95c8-4149-9f1f-ddcc9162d790"
      },
      "execution_count": null,
      "outputs": [
        {
          "output_type": "stream",
          "name": "stdout",
          "text": [
            "Enter a number: 6\n",
            "6\n",
            "The number is a palindrome!\n",
            "720\n",
            "The number is not a strong number\n",
            "6\n",
            "The number is a perfect number\n"
          ]
        }
      ]
    },
    {
      "cell_type": "code",
      "source": [
        "#11Compute compound interest using loop for a certain principal and interest amount\n",
        "\n",
        "import math\n",
        "principal = 1000\n",
        "rate = 0.34\n",
        "year=20\n",
        "for i in range (1,21):\n",
        "  amount = principal * pow((1.0 + rate),i)\n",
        "  print(amount)\n",
        "  "
      ],
      "metadata": {
        "id": "qvSx9Z-13SKU",
        "colab": {
          "base_uri": "https://localhost:8080/"
        },
        "outputId": "9fd26030-41f8-4fdf-bbd5-1236b062b7b2"
      },
      "execution_count": null,
      "outputs": [
        {
          "output_type": "stream",
          "name": "stdout",
          "text": [
            "1340.0\n",
            "1795.6000000000004\n",
            "2406.1040000000003\n",
            "3224.179360000001\n",
            "4320.400342400001\n",
            "5789.336458816002\n",
            "7757.710854813444\n",
            "10395.332545450014\n",
            "13929.74561090302\n",
            "18665.859118610046\n",
            "25012.251218937465\n",
            "33516.41663337621\n",
            "44911.99828872412\n",
            "60182.077706890326\n",
            "80643.98412723304\n",
            "108062.93873049227\n",
            "144804.33789885967\n",
            "194037.81278447196\n",
            "260010.66913119247\n",
            "348414.2966357979\n"
          ]
        }
      ]
    },
    {
      "cell_type": "code",
      "source": [
        ""
      ],
      "metadata": {
        "id": "JpIQg1uaN39s"
      },
      "execution_count": null,
      "outputs": []
    }
  ]
}