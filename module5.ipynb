{
  "nbformat": 4,
  "nbformat_minor": 0,
  "metadata": {
    "colab": {
      "name": "module5.ipynb",
      "provenance": [],
      "authorship_tag": "ABX9TyNFICLVqSZx9QlwrbCSwGA4",
      "include_colab_link": true
    },
    "kernelspec": {
      "name": "python3",
      "display_name": "Python 3"
    },
    "language_info": {
      "name": "python"
    }
  },
  "cells": [
    {
      "cell_type": "markdown",
      "metadata": {
        "id": "view-in-github",
        "colab_type": "text"
      },
      "source": [
        "<a href=\"https://colab.research.google.com/github/HEMIKA-310/Python-new/blob/Assignment-5/module5.ipynb\" target=\"_parent\"><img src=\"https://colab.research.google.com/assets/colab-badge.svg\" alt=\"Open In Colab\"/></a>"
      ]
    },
    {
      "cell_type": "markdown",
      "source": [
        "PROGRAMS\n"
      ],
      "metadata": {
        "id": "sA4sFwjhXTSS"
      }
    },
    {
      "cell_type": "code",
      "source": [
        "#Write a Python program to check that a string contains only a certain set of characters (in this case a-z, A-Z and 0-9).\n",
        "import re\n",
        "n=\"hgesdaghjfb agh21\"\n",
        "# print(re.findall(\"\\w\",n))\n",
        "r=re.findall(\"[a-zA-Z0-9]\",n)\n",
        "print(r)"
      ],
      "metadata": {
        "colab": {
          "base_uri": "https://localhost:8080/"
        },
        "id": "m7XnG-ujXW9I",
        "outputId": "7373b0f5-b842-4f9c-fd73-6331c09ae922"
      },
      "execution_count": 11,
      "outputs": [
        {
          "output_type": "stream",
          "name": "stdout",
          "text": [
            "['h', 'g', 'e', 's', 'd', 'a', 'g', 'h', 'j', 'f', 'b', 'a', 'g', 'h', '2', '1']\n"
          ]
        }
      ]
    },
    {
      "cell_type": "code",
      "source": [
        "import re\n",
        "txt = \"abdevilliers is a great south african cricketer\"\n",
        "x = re.findall(r\"ab*\", txt)\n",
        "print(x)"
      ],
      "metadata": {
        "colab": {
          "base_uri": "https://localhost:8080/"
        },
        "id": "SynmBjOuXcDi",
        "outputId": "e0a0d015-85e2-4309-cc58-a2a6940b4156"
      },
      "execution_count": 12,
      "outputs": [
        {
          "output_type": "stream",
          "name": "stdout",
          "text": [
            "['ab', 'a', 'a', 'a', 'a']\n"
          ]
        }
      ]
    },
    {
      "cell_type": "code",
      "source": [
        "import re\n",
        "txt = \"abdevilliers is a great south african cricketer\"\n",
        "x = re.findall(r\"ab?\", txt)\n",
        "print(x)"
      ],
      "metadata": {
        "colab": {
          "base_uri": "https://localhost:8080/"
        },
        "id": "vcYt5uDSW7D-",
        "outputId": "760f87dd-4765-423f-918b-636f0d501b23"
      },
      "execution_count": 8,
      "outputs": [
        {
          "output_type": "stream",
          "name": "stdout",
          "text": [
            "['ab', 'a', 'a', 'a', 'a']\n"
          ]
        }
      ]
    },
    {
      "cell_type": "code",
      "source": [
        "import re\n",
        "txt = \"abdevilliers is a great south african cricketer\"\n",
        "x = re.findall(r\"ab+\", txt)\n",
        "print(x)"
      ],
      "metadata": {
        "colab": {
          "base_uri": "https://localhost:8080/"
        },
        "id": "FcFgzxRUXF3z",
        "outputId": "0272b4d4-76c3-4ec4-a4b0-3596c639fdb5"
      },
      "execution_count": 9,
      "outputs": [
        {
          "output_type": "stream",
          "name": "stdout",
          "text": [
            "['ab']\n"
          ]
        }
      ]
    },
    {
      "cell_type": "code",
      "source": [
        "#Write a Python program that matches a string that has an a followed by three 'b'\n",
        "import re\n",
        "txt = \"Anaya found a book in her desk and gave it to abbba and abbb \"\n",
        "x=re.findall(r\"abbb\",txt)\n",
        "print(x)"
      ],
      "metadata": {
        "colab": {
          "base_uri": "https://localhost:8080/"
        },
        "id": "EV8OzYgVQTCz",
        "outputId": "68bc99c4-fdfc-4b23-f7ed-b7bbec795029"
      },
      "execution_count": 5,
      "outputs": [
        {
          "output_type": "stream",
          "name": "stdout",
          "text": [
            "['abbb', 'abbb']\n"
          ]
        }
      ]
    },
    {
      "cell_type": "code",
      "source": [
        "#Write a Python program to find sequences of lowercase letters joined with an underscore\n",
        "import re\n",
        "txt = \"hahgh_e ndag_in hn ammha_hghg\"\n",
        "x = re.findall(\"[a-z]_\", txt)\n",
        "print(x)"
      ],
      "metadata": {
        "colab": {
          "base_uri": "https://localhost:8080/"
        },
        "id": "MiBbg7umQXE-",
        "outputId": "0c29e889-faf2-43a5-d281-bb461d4ea141"
      },
      "execution_count": 4,
      "outputs": [
        {
          "output_type": "stream",
          "name": "stdout",
          "text": [
            "['h_', 'g_', 'a_']\n"
          ]
        }
      ]
    },
    {
      "cell_type": "markdown",
      "source": [
        "EXAMPLES"
      ],
      "metadata": {
        "id": "9XJBK6mYXfYA"
      }
    },
    {
      "cell_type": "code",
      "source": [
        "#search function\n",
        "import re\n",
        "txt=\"The rain in Spain\"\n",
        "x=re.search(\"^The.*Spain$\",txt)\n",
        "if x:\n",
        "  print(\"YES, matched\")\n",
        "else:\n",
        "  print(\"no\")"
      ],
      "metadata": {
        "colab": {
          "base_uri": "https://localhost:8080/"
        },
        "id": "iZBU0-1AXiXT",
        "outputId": "10e44ef1-8a1d-433a-e267-2bcc987410d4"
      },
      "execution_count": 13,
      "outputs": [
        {
          "output_type": "stream",
          "name": "stdout",
          "text": [
            "YES, matched\n"
          ]
        }
      ]
    },
    {
      "cell_type": "code",
      "source": [
        "#findall function\n",
        "import re\n",
        "txt=\"hi welcome\"\n",
        "x=re.findall(\"e\",txt)\n",
        "print(x)"
      ],
      "metadata": {
        "colab": {
          "base_uri": "https://localhost:8080/"
        },
        "id": "K5ZSfZmTYLvb",
        "outputId": "74caae94-8b6d-4afa-f36a-6efcdc3a160e"
      },
      "execution_count": 14,
      "outputs": [
        {
          "output_type": "stream",
          "name": "stdout",
          "text": [
            "['e', 'e']\n"
          ]
        }
      ]
    },
    {
      "cell_type": "code",
      "source": [
        "#search function\n",
        "import re\n",
        "txt=\"The Visakhapatnam\"\n",
        "x=re.search(\"Visakhapatnam\",txt)\n",
        "print(x)"
      ],
      "metadata": {
        "colab": {
          "base_uri": "https://localhost:8080/"
        },
        "id": "bl5nN6zFYZQF",
        "outputId": "d67cfa0e-d627-48fc-ff01-32c0f148be59"
      },
      "execution_count": 15,
      "outputs": [
        {
          "output_type": "stream",
          "name": "stdout",
          "text": [
            "<re.Match object; span=(4, 17), match='Visakhapatnam'>\n"
          ]
        }
      ]
    },
    {
      "cell_type": "code",
      "source": [
        "#split function\n",
        "import re\n",
        "txt=\"The rain in Spain\"\n",
        "x=re.split(\"\\s\",txt,1)\n",
        "print(x)"
      ],
      "metadata": {
        "colab": {
          "base_uri": "https://localhost:8080/"
        },
        "id": "MyqF8dg0YqgU",
        "outputId": "a1f11b25-dab8-4c3d-f4de-6289c4ff3905"
      },
      "execution_count": 16,
      "outputs": [
        {
          "output_type": "stream",
          "name": "stdout",
          "text": [
            "['The', 'rain in Spain']\n"
          ]
        }
      ]
    },
    {
      "cell_type": "code",
      "source": [
        "#sub function\n",
        "import re\n",
        "txt=\"The rain in Spain\"\n",
        "x=re.sub(\"\\s\",\"9\",txt)\n",
        "print(x)"
      ],
      "metadata": {
        "colab": {
          "base_uri": "https://localhost:8080/"
        },
        "id": "3zn_OqLnY79q",
        "outputId": "dd128a89-96a2-4b10-a181-0a847ade72f4"
      },
      "execution_count": 17,
      "outputs": [
        {
          "output_type": "stream",
          "name": "stdout",
          "text": [
            "The9rain9in9Spain\n"
          ]
        }
      ]
    }
  ]
}