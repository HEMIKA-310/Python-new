{
  "nbformat": 4,
  "nbformat_minor": 0,
  "metadata": {
    "colab": {
      "name": "variables.ipynb",
      "provenance": [],
      "authorship_tag": "ABX9TyNghTo4sD0lmF3/Yv75jFsj",
      "include_colab_link": true
    },
    "kernelspec": {
      "name": "python3",
      "display_name": "Python 3"
    },
    "language_info": {
      "name": "python"
    }
  },
  "cells": [
    {
      "cell_type": "markdown",
      "metadata": {
        "id": "view-in-github",
        "colab_type": "text"
      },
      "source": [
        "<a href=\"https://colab.research.google.com/github/HEMIKA-310/Python-new/blob/Module-1/variables.ipynb\" target=\"_parent\"><img src=\"https://colab.research.google.com/assets/colab-badge.svg\" alt=\"Open In Colab\"/></a>"
      ]
    },
    {
      "cell_type": "markdown",
      "source": [
        "python basics\n",
        "\n"
      ],
      "metadata": {
        "id": "3ahEXRdsN4Mf"
      }
    },
    {
      "cell_type": "code",
      "source": [
        "#python is case sensitive"
      ],
      "metadata": {
        "id": "MwFH3SawQ0YN"
      },
      "execution_count": null,
      "outputs": []
    },
    {
      "cell_type": "markdown",
      "source": [
        "comments\n"
      ],
      "metadata": {
        "id": "Dp5P-SELQgMC"
      }
    },
    {
      "cell_type": "code",
      "source": [
        "#single line\n",
        "print(\"Hello world\")\n",
        "#multi line\n",
        "\"\"\"\n",
        "this is a\n",
        "comment written in \n",
        "more than just one line\n",
        "\"\"\"\n",
        "print(\"hello world\")\n",
        "#can use \"\"\" or '''or # for commenting /this won't be printed as an output"
      ],
      "metadata": {
        "colab": {
          "base_uri": "https://localhost:8080/"
        },
        "id": "O5QFKbH1N8xh",
        "outputId": "3e9890b3-7f79-4908-f8ce-73d0125e744b"
      },
      "execution_count": null,
      "outputs": [
        {
          "output_type": "stream",
          "name": "stdout",
          "text": [
            "Hello world\n",
            "hello world\n"
          ]
        }
      ]
    },
    {
      "cell_type": "markdown",
      "source": [
        "variables"
      ],
      "metadata": {
        "id": "gG7tePczO1PG"
      }
    },
    {
      "cell_type": "code",
      "source": [
        "#should start with letter or_\n",
        "#should contain only alphanumeric characters (A-Z) and underscores _\n",
        "#cannot start with number\n",
        "#no need to declare\n",
        "# use type() variable to know datatype - put the function in()\n",
        "x=4\n",
        "print(type(x))\n",
        "x=\"hemika\"\n",
        "print(type(x))\n",
        "#assign values to multivariables in one line\n",
        "x,y,z=\"apple\""
      ],
      "metadata": {
        "colab": {
          "base_uri": "https://localhost:8080/"
        },
        "id": "xLJkaXDhO3-T",
        "outputId": "070a317a-48a2-4977-c8b9-091ed1a934ca"
      },
      "execution_count": null,
      "outputs": [
        {
          "output_type": "stream",
          "name": "stdout",
          "text": [
            "<class 'int'>\n",
            "<class 'str'>\n"
          ]
        }
      ]
    },
    {
      "cell_type": "markdown",
      "source": [
        "casting"
      ],
      "metadata": {
        "id": "DTt1r9vpPbzh"
      }
    },
    {
      "cell_type": "code",
      "source": [
        "#implicit\n",
        "# string can be declared using \" \" or ' '"
      ],
      "metadata": {
        "colab": {
          "base_uri": "https://localhost:8080/"
        },
        "id": "cTOsxEfaPdav",
        "outputId": "23c089e1-0aab-43f3-cdaf-406bda29aea4"
      },
      "execution_count": null,
      "outputs": [
        {
          "output_type": "stream",
          "name": "stdout",
          "text": [
            "3.0\n"
          ]
        }
      ]
    }
  ]
}