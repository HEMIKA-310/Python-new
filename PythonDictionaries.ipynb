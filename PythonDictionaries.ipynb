{
  "nbformat": 4,
  "nbformat_minor": 0,
  "metadata": {
    "colab": {
      "name": "PythonDictionaries.ipynb",
      "provenance": [],
      "authorship_tag": "ABX9TyPB6YPla7E2UkdtGPh9o3nA",
      "include_colab_link": true
    },
    "kernelspec": {
      "name": "python3",
      "display_name": "Python 3"
    },
    "language_info": {
      "name": "python"
    }
  },
  "cells": [
    {
      "cell_type": "markdown",
      "metadata": {
        "id": "view-in-github",
        "colab_type": "text"
      },
      "source": [
        "<a href=\"https://colab.research.google.com/github/HEMIKA-310/Python-practice/blob/Module-2/PythonDictionaries.ipynb\" target=\"_parent\"><img src=\"https://colab.research.google.com/assets/colab-badge.svg\" alt=\"Open In Colab\"/></a>"
      ]
    },
    {
      "cell_type": "code",
      "execution_count": null,
      "metadata": {
        "colab": {
          "base_uri": "https://localhost:8080/"
        },
        "id": "PxNHQ9X3i2QZ",
        "outputId": "6d33741c-dbd7-4d1c-d7d2-2fa686298c52"
      },
      "outputs": [
        {
          "output_type": "stream",
          "name": "stdout",
          "text": [
            "name: krishna\n",
            "age: 21\n",
            "course: cse\n",
            "CGPA: 9\n",
            "{'name': 'krishna', 'age': '21', 'course': 'cse', 'CGPA': '9'}\n"
          ]
        }
      ],
      "source": [
        "#Dictionaries\n",
        "d  = {\n",
        "    \"name\":input(\"name: \"),\n",
        "    \"age\":input(\"age: \"),\n",
        "    \"course\":input(\"course: \"),\n",
        "    \"CGPA\":input(\"CGPA: \")\n",
        "}\n",
        "print(d)"
      ]
    },
    {
      "cell_type": "code",
      "source": [
        "d  = {\n",
        "    \"name\":\"hemika\",\n",
        "    \"age\":21,\n",
        "    \"course\":\"cse\",\n",
        "    \"CGPA\":9\n",
        "}\n",
        "print(d[\"name\"])\n",
        "a=d.get(\"CGPA\")\n",
        "print(a)\n",
        "b=d.keys()\n",
        "print(b)\n",
        "d[\"grade\"]=\"A\"\n",
        "print(d)\n",
        "c=d.values()\n",
        "print(c)\n",
        "e=d.items()\n",
        "print(e)"
      ],
      "metadata": {
        "colab": {
          "base_uri": "https://localhost:8080/"
        },
        "id": "HYWIENX-EFN5",
        "outputId": "5acfe29a-cec6-45e3-b85d-2f7e7824919a"
      },
      "execution_count": null,
      "outputs": [
        {
          "output_type": "stream",
          "name": "stdout",
          "text": [
            "hemika\n",
            "9\n",
            "dict_keys(['name', 'age', 'course', 'CGPA'])\n",
            "{'name': 'hemika', 'age': 21, 'course': 'cse', 'CGPA': 9, 'grade': 'A'}\n",
            "dict_values(['hemika', 21, 'cse', 9, 'A'])\n",
            "dict_items([('name', 'hemika'), ('age', 21), ('course', 'cse'), ('CGPA', 9), ('grade', 'A')])\n"
          ]
        }
      ]
    },
    {
      "cell_type": "code",
      "source": [
        "dic  = {\n",
        "    \"name\":\"hemika\",\n",
        "    \"age\":21,\n",
        "    \"course\":\"cse\",\n",
        "    \"CGPA\":9\n",
        "}\n",
        "dic[\"age\"]=18\n",
        "print(dic)\n",
        "if \"name\" in dic:\n",
        "   print(\"yes\")\n",
        "if \"hemika\" in dic:\n",
        "   print(\"yes\")\n",
        "else:\n",
        "  print(\"no\")"
      ],
      "metadata": {
        "colab": {
          "base_uri": "https://localhost:8080/"
        },
        "id": "GvXp4AsZE1A-",
        "outputId": "80e697a0-2866-42d1-8ba0-8fd1edbcb735"
      },
      "execution_count": null,
      "outputs": [
        {
          "output_type": "stream",
          "name": "stdout",
          "text": [
            "{'name': 'hemika', 'age': 18, 'course': 'cse', 'CGPA': 9}\n",
            "yes\n",
            "no\n"
          ]
        }
      ]
    },
    {
      "cell_type": "code",
      "source": [
        "dic  = {\n",
        "    \"name\":\"hemika\",\n",
        "    \"age\":21,\n",
        "    \"course\":\"cse\",\n",
        "    \"CGPA\":9\n",
        "}\n",
        "d.update({\"age\":18})\n",
        "print(d)"
      ],
      "metadata": {
        "colab": {
          "base_uri": "https://localhost:8080/"
        },
        "id": "7Gr8MqMjJUvB",
        "outputId": "3eb647a6-e2ee-4ec9-b284-7a31c2a7876c"
      },
      "execution_count": null,
      "outputs": [
        {
          "output_type": "stream",
          "name": "stdout",
          "text": [
            "{'name': 'hemika', 'age': 18, 'course': 'cse', 'CGPA': 9, 'grade': 'A'}\n"
          ]
        }
      ]
    }
  ]
}