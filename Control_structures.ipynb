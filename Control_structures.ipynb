{
  "nbformat": 4,
  "nbformat_minor": 0,
  "metadata": {
    "colab": {
      "name": "Control structures.ipynb",
      "provenance": [],
      "authorship_tag": "ABX9TyNomNVbeEtP8y9jdlxUlWu7",
      "include_colab_link": true
    },
    "kernelspec": {
      "name": "python3",
      "display_name": "Python 3"
    },
    "language_info": {
      "name": "python"
    }
  },
  "cells": [
    {
      "cell_type": "markdown",
      "metadata": {
        "id": "view-in-github",
        "colab_type": "text"
      },
      "source": [
        "<a href=\"https://colab.research.google.com/github/HEMIKA-310/Python-practice/blob/Module-1/Control_structures.ipynb\" target=\"_parent\"><img src=\"https://colab.research.google.com/assets/colab-badge.svg\" alt=\"Open In Colab\"/></a>"
      ]
    },
    {
      "cell_type": "code",
      "execution_count": 15,
      "metadata": {
        "colab": {
          "base_uri": "https://localhost:8080/"
        },
        "id": "cMbQTr0HPXDh",
        "outputId": "e7c2d5d5-32cd-49c5-8b72-3a150931ecf2"
      },
      "outputs": [
        {
          "output_type": "stream",
          "name": "stdout",
          "text": [
            "Enter age: 15\n",
            "Not Eligible\n",
            "Eligible\n"
          ]
        }
      ],
      "source": [
        "#find out the person is eligible for voting or not\n",
        "##dynamic\n",
        "a=int(input(\"Enter age: \"))\n",
        "if a>=18:\n",
        "  print(\"Eligible\")\n",
        "else:\n",
        "  print(\"Not Eligible\")\n",
        "##static\n",
        "a=18\n",
        "if a>=18:\n",
        "  print(\"Eligible\")\n",
        "else:\n",
        "    print(\"Not eligible\")\n",
        "\n",
        "\n"
      ]
    },
    {
      "cell_type": "code",
      "source": [
        "#find the greatest of 3 numbers\n",
        "#static\n",
        "a=10;b=20;c=30\n",
        "if a>b and a>c:\n",
        "  print(\"a is greatest\")\n",
        "elif b>a and b>c:\n",
        "  print(\"b is greatest\")\n",
        "else:\n",
        "  print(\"c is greatest\")\n",
        "#dynamic\n",
        "x=int(input(\"n1 \"))\n",
        "y=int(input(\"n2 \"))\n",
        "z=int(input(\"n3 \"))\n",
        "if x>y and x>z:\n",
        "  print(\"x is greatest\")\n",
        "elif y>x and y>z:\n",
        "  print(\"y is greatest\")\n",
        "else:\n",
        "  print(\"z is greatest\")\n",
        "\n"
      ],
      "metadata": {
        "colab": {
          "base_uri": "https://localhost:8080/"
        },
        "id": "7PTKS9eNRwDR",
        "outputId": "bc6153b8-d454-4e40-9059-1116e0be92ac"
      },
      "execution_count": 17,
      "outputs": [
        {
          "output_type": "stream",
          "name": "stdout",
          "text": [
            "c is greatest\n",
            "n1 38\n",
            "n2 67\n",
            "n3 89\n",
            "z is greatest\n"
          ]
        }
      ]
    },
    {
      "cell_type": "markdown",
      "source": [
        ""
      ],
      "metadata": {
        "id": "IP0eE4ywRKox"
      }
    },
    {
      "cell_type": "code",
      "source": [
        "#Check whether the triangle is equilateral, isosceles, or scalene triangle.\n",
        "l1=int(input(\"first side length: \"))\n",
        "l2=int(input(\"second side length: \"))\n",
        "l3=int(input(\"third side length: \"))\n",
        "if l1==l2==l3:\n",
        "  print(\"Equilateral\")\n",
        "elif l1!=l2 and l2!=l3 and l3!=l1:\n",
        "  print(\"Scalene\")\n",
        "elif l1==l2 or l2==l3 or l3==l1:\n",
        "  print(\"Isosceles\")\n",
        "\n",
        "\n"
      ],
      "metadata": {
        "colab": {
          "base_uri": "https://localhost:8080/"
        },
        "id": "GtMtc0ChWPzv",
        "outputId": "23370948-4f08-47f0-c2d3-41c6dbed5a5b"
      },
      "execution_count": 35,
      "outputs": [
        {
          "output_type": "stream",
          "name": "stdout",
          "text": [
            "first side length: 4\n",
            "second side length: 2\n",
            "third side length: 4\n",
            "Isosceles\n"
          ]
        }
      ]
    },
    {
      "cell_type": "code",
      "source": [
        "#Check whether entered year is a leap year or not\n",
        "y=int(input(\"Enter year: \"))\n",
        "if y%400==0:\n",
        "  print(\"Leap year\")\n",
        "elif y%100==0:\n",
        "  print(\"Not a leap year\")\n",
        "elif y%4==0:\n",
        "  print(\"Leap year\")\n",
        "else:\n",
        "  print(\"Not a leap year\")"
      ],
      "metadata": {
        "colab": {
          "base_uri": "https://localhost:8080/"
        },
        "id": "yUx528LAc4Lp",
        "outputId": "018619a4-a556-40a9-833f-60b80fe9d9a6"
      },
      "execution_count": 38,
      "outputs": [
        {
          "output_type": "stream",
          "name": "stdout",
          "text": [
            "Enter year: 1900\n",
            "Not a leap year\n"
          ]
        }
      ]
    },
    {
      "cell_type": "code",
      "source": [
        "#Find minimum among 3 numbers\n",
        "x=int(input(\"n1 \"))\n",
        "y=int(input(\"n2 \"))\n",
        "z=int(input(\"n3 \"))\n",
        "if x<y and x<z:\n",
        "  print(\"x is minimum\")\n",
        "elif y<x and y<z:\n",
        "  print(\"y is minimum\")\n",
        "else:\n",
        "  print(\"z is minimum\")\n"
      ],
      "metadata": {
        "colab": {
          "base_uri": "https://localhost:8080/"
        },
        "id": "ggyaIG4Gc-bx",
        "outputId": "f69f6c21-8f9e-4779-80ca-06643cd1be7c"
      },
      "execution_count": 39,
      "outputs": [
        {
          "output_type": "stream",
          "name": "stdout",
          "text": [
            "n1 10\n",
            "n2 20\n",
            "n3 30\n",
            "x is minimum\n"
          ]
        }
      ]
    },
    {
      "cell_type": "code",
      "source": [
        "#Check whether a number is divisible by 5 and 11 or not\n",
        "n=int(input(\"n1 \"))\n",
        "if n%5==0 and n%11==0:\n",
        "  print(\"Number is divisible by 5 and 11\")\n",
        "else:\n",
        "  print(\"Not divisible\")"
      ],
      "metadata": {
        "colab": {
          "base_uri": "https://localhost:8080/"
        },
        "id": "3yP2pB81dcN6",
        "outputId": "9654ce83-ca81-4b2c-8923-e5756c4588a7"
      },
      "execution_count": 41,
      "outputs": [
        {
          "output_type": "stream",
          "name": "stdout",
          "text": [
            "n1 58\n",
            "Not divisible\n"
          ]
        }
      ]
    }
  ]
}